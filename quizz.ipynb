{
 "cells": [
  {
   "cell_type": "markdown",
   "id": "cbfd2323-1a58-4ba1-b280-2ce735722398",
   "metadata": {},
   "source": [
    "# ერთ ცვლადიანი რეგრესიის მოდელი (Simple linear Regression)"
   ]
  },
  {
   "cell_type": "code",
   "execution_count": 1,
   "id": "ba408fdc-a193-43a9-9f94-55c88bc33063",
   "metadata": {},
   "outputs": [],
   "source": [
    "import numpy as np\n",
    "import matplotlib.pyplot as plt\n",
    "import pandas as pd\n",
    "import seaborn as sns\n",
    "%matplotlib inline"
   ]
  },
  {
   "cell_type": "markdown",
   "id": "12a9554f-9fbd-411e-ae65-6ef5c2e7b730",
   "metadata": {},
   "source": [
    "მოცემულია დათასეთი სადაც წონის მიხედვით ვადგენთ საზამთროს ფასს. დათასეთი შეგიძლიათ იხილოთ ბმულზე:  https://www.kaggle.com/datasets/man526/watermelon-price-prediction-from-weight"
   ]
  },
  {
   "cell_type": "code",
   "execution_count": 2,
   "id": "4b199c39-df1c-4f5a-961c-098f37095e32",
   "metadata": {},
   "outputs": [
    {
     "data": {
      "text/html": [
       "<div>\n",
       "<style scoped>\n",
       "    .dataframe tbody tr th:only-of-type {\n",
       "        vertical-align: middle;\n",
       "    }\n",
       "\n",
       "    .dataframe tbody tr th {\n",
       "        vertical-align: top;\n",
       "    }\n",
       "\n",
       "    .dataframe thead th {\n",
       "        text-align: right;\n",
       "    }\n",
       "</style>\n",
       "<table border=\"1\" class=\"dataframe\">\n",
       "  <thead>\n",
       "    <tr style=\"text-align: right;\">\n",
       "      <th></th>\n",
       "      <th>Weight</th>\n",
       "      <th>Price</th>\n",
       "    </tr>\n",
       "  </thead>\n",
       "  <tbody>\n",
       "    <tr>\n",
       "      <th>0</th>\n",
       "      <td>1</td>\n",
       "      <td>50</td>\n",
       "    </tr>\n",
       "    <tr>\n",
       "      <th>1</th>\n",
       "      <td>2</td>\n",
       "      <td>100</td>\n",
       "    </tr>\n",
       "    <tr>\n",
       "      <th>2</th>\n",
       "      <td>3</td>\n",
       "      <td>140</td>\n",
       "    </tr>\n",
       "    <tr>\n",
       "      <th>3</th>\n",
       "      <td>4</td>\n",
       "      <td>180</td>\n",
       "    </tr>\n",
       "    <tr>\n",
       "      <th>4</th>\n",
       "      <td>5</td>\n",
       "      <td>220</td>\n",
       "    </tr>\n",
       "    <tr>\n",
       "      <th>5</th>\n",
       "      <td>6</td>\n",
       "      <td>250</td>\n",
       "    </tr>\n",
       "    <tr>\n",
       "      <th>6</th>\n",
       "      <td>7</td>\n",
       "      <td>300</td>\n",
       "    </tr>\n",
       "    <tr>\n",
       "      <th>7</th>\n",
       "      <td>8</td>\n",
       "      <td>340</td>\n",
       "    </tr>\n",
       "    <tr>\n",
       "      <th>8</th>\n",
       "      <td>9</td>\n",
       "      <td>380</td>\n",
       "    </tr>\n",
       "    <tr>\n",
       "      <th>9</th>\n",
       "      <td>10</td>\n",
       "      <td>390</td>\n",
       "    </tr>\n",
       "  </tbody>\n",
       "</table>\n",
       "</div>"
      ],
      "text/plain": [
       "   Weight  Price\n",
       "0       1     50\n",
       "1       2    100\n",
       "2       3    140\n",
       "3       4    180\n",
       "4       5    220\n",
       "5       6    250\n",
       "6       7    300\n",
       "7       8    340\n",
       "8       9    380\n",
       "9      10    390"
      ]
     },
     "execution_count": 2,
     "metadata": {},
     "output_type": "execute_result"
    }
   ],
   "source": [
    "melon_df = pd.read_csv('melon.csv')\n",
    "melon_df"
   ]
  },
  {
   "cell_type": "code",
   "execution_count": 3,
   "id": "911f382b-727c-4a34-8000-3e3aae15343f",
   "metadata": {},
   "outputs": [
    {
     "data": {
      "text/plain": [
       "(10, 2)"
      ]
     },
     "execution_count": 3,
     "metadata": {},
     "output_type": "execute_result"
    }
   ],
   "source": [
    "melon_df.shape"
   ]
  },
  {
   "cell_type": "code",
   "execution_count": 4,
   "id": "e1f399c9-8d0d-4a68-b5b6-15e68927a7a2",
   "metadata": {},
   "outputs": [
    {
     "data": {
      "text/plain": [
       "<Axes: >"
      ]
     },
     "execution_count": 4,
     "metadata": {},
     "output_type": "execute_result"
    },
    {
     "data": {
      "image/png": "[encoded data removed]",
      "text/plain": [
       "<Figure size 640x480 with 2 Axes>"
      ]
     },
     "metadata": {},
     "output_type": "display_data"
    }
   ],
   "source": [
    "sns.heatmap(melon_df.corr()) # მოცემულია კორელაციების ჰითმეფი"
   ]
  },
  {
   "cell_type": "code",
   "execution_count": 5,
   "id": "72b3e801-5e73-420c-9bb6-2d79b39b2f15",
   "metadata": {},
   "outputs": [
    {
     "data": {
      "text/plain": [
       "Index(['Weight', 'Price'], dtype='object')"
      ]
     },
     "execution_count": 5,
     "metadata": {},
     "output_type": "execute_result"
    }
   ],
   "source": [
    "melon_df.columns"
   ]
  },
  {
   "cell_type": "code",
   "execution_count": 6,
   "id": "f045c5f7-a524-48eb-8f93-e46a0304bc02",
   "metadata": {},
   "outputs": [],
   "source": [
    "melon_X = melon_df[[\"Weight\"]].values\n",
    "melon_y = melon_df[\"Price\"].values"
   ]
  },
  {
   "cell_type": "code",
   "execution_count": 7,
   "id": "55df03a2-64f8-4111-b41f-92dc883879d4",
   "metadata": {},
   "outputs": [
    {
     "data": {
      "text/plain": [
       "array([ 50, 100, 140, 180, 220, 250, 300, 340, 380, 390], dtype=int64)"
      ]
     },
     "execution_count": 7,
     "metadata": {},
     "output_type": "execute_result"
    }
   ],
   "source": [
    "melon_y"
   ]
  },
  {
   "cell_type": "code",
   "execution_count": 8,
   "id": "e343859b-b06f-4076-bed8-7c384ca36aeb",
   "metadata": {},
   "outputs": [
    {
     "data": {
      "image/png": "[encoded data removed]",
      "text/plain": [
       "<Figure size 640x480 with 1 Axes>"
      ]
     },
     "metadata": {},
     "output_type": "display_data"
    }
   ],
   "source": [
    "plt.scatter(melon_X, melon_y ) # დავაკვირდეთ წრფივ ტენდენტციას\n",
    "plt.title('წონასა და ფასს შორის წრფივი დამოკიდებულება')\n",
    "plt.show()"
   ]
  },
  {
   "cell_type": "markdown",
   "id": "b9cce4f8-90ed-4d21-b075-01ed9151cc91",
   "metadata": {},
   "source": [
    "მოცემული დათასეთის მონაცემების დაყოფა სატრენინგოდ და სატესტოდ. სატესტოს ზომად აღებულია 20%"
   ]
  },
  {
   "cell_type": "code",
   "execution_count": 9,
   "id": "fbcc3dd6-036e-49bb-9876-53e729b612a8",
   "metadata": {},
   "outputs": [],
   "source": [
    "from sklearn.model_selection import train_test_split\n",
    "X_train, X_test, y_train, y_test = train_test_split(melon_X, melon_y, test_size = 0.2, random_state = 10)"
   ]
  },
  {
   "cell_type": "code",
   "execution_count": 12,
   "id": "f4e30972-e0ff-4507-9360-d146a1102121",
   "metadata": {},
   "outputs": [
    {
     "data": {
      "text/plain": [
       "array([[ 6],\n",
       "       [ 7],\n",
       "       [ 4],\n",
       "       [ 2],\n",
       "       [ 1],\n",
       "       [ 8],\n",
       "       [ 5],\n",
       "       [10]], dtype=int64)"
      ]
     },
     "execution_count": 12,
     "metadata": {},
     "output_type": "execute_result"
    }
   ],
   "source": [
    "X_train"
   ]
  },
  {
   "cell_type": "code",
   "execution_count": 13,
   "id": "c8dacc8b-ebf4-4000-af18-764f6b1e5702",
   "metadata": {},
   "outputs": [
    {
     "data": {
      "text/plain": [
       "array([250, 300, 180, 100,  50, 340, 220, 390], dtype=int64)"
      ]
     },
     "execution_count": 13,
     "metadata": {},
     "output_type": "execute_result"
    }
   ],
   "source": [
    "y_train"
   ]
  },
  {
   "cell_type": "markdown",
   "id": "67dc0228-2122-479e-9438-9293c7fd055a",
   "metadata": {},
   "source": [
    "მოდელის შექმნა და მისთვის სატრენინგო მონაცემების მიწოდება"
   ]
  },
  {
   "cell_type": "code",
   "execution_count": 14,
   "id": "e9608a29-ead8-41d5-918f-e25d9f5cb423",
   "metadata": {},
   "outputs": [
    {
     "data": {
      "text/html": [
       "<style>#sk-container-id-1 {color: black;}#sk-container-id-1 pre{padding: 0;}#sk-container-id-1 div.sk-toggleable {background-color: white;}#sk-container-id-1 label.sk-toggleable__label {cursor: pointer;display: block;width: 100%;margin-bottom: 0;padding: 0.3em;box-sizing: border-box;text-align: center;}#sk-container-id-1 label.sk-toggleable__label-arrow:before {content: \"▸\";float: left;margin-right: 0.25em;color: #696969;}#sk-container-id-1 label.sk-toggleable__label-arrow:hover:before {color: black;}#sk-container-id-1 div.sk-estimator:hover label.sk-toggleable__label-arrow:before {color: black;}#sk-container-id-1 div.sk-toggleable__content {max-height: 0;max-width: 0;overflow: hidden;text-align: left;background-color: #f0f8ff;}#sk-container-id-1 div.sk-toggleable__content pre {margin: 0.2em;color: black;border-radius: 0.25em;background-color: #f0f8ff;}#sk-container-id-1 input.sk-toggleable__control:checked~div.sk-toggleable__content {max-height: 200px;max-width: 100%;overflow: auto;}#sk-container-id-1 input.sk-toggleable__control:checked~label.sk-toggleable__label-arrow:before {content: \"▾\";}#sk-container-id-1 div.sk-estimator input.sk-toggleable__control:checked~label.sk-toggleable__label {background-color: #d4ebff;}#sk-container-id-1 div.sk-label input.sk-toggleable__control:checked~label.sk-toggleable__label {background-color: #d4ebff;}#sk-container-id-1 input.sk-hidden--visually {border: 0;clip: rect(1px 1px 1px 1px);clip: rect(1px, 1px, 1px, 1px);height: 1px;margin: -1px;overflow: hidden;padding: 0;position: absolute;width: 1px;}#sk-container-id-1 div.sk-estimator {font-family: monospace;background-color: #f0f8ff;border: 1px dotted black;border-radius: 0.25em;box-sizing: border-box;margin-bottom: 0.5em;}#sk-container-id-1 div.sk-estimator:hover {background-color: #d4ebff;}#sk-container-id-1 div.sk-parallel-item::after {content: \"\";width: 100%;border-bottom: 1px solid gray;flex-grow: 1;}#sk-container-id-1 div.sk-label:hover label.sk-toggleable__label {background-color: #d4ebff;}#sk-container-id-1 div.sk-serial::before {content: \"\";position: absolute;border-left: 1px solid gray;box-sizing: border-box;top: 0;bottom: 0;left: 50%;z-index: 0;}#sk-container-id-1 div.sk-serial {display: flex;flex-direction: column;align-items: center;background-color: white;padding-right: 0.2em;padding-left: 0.2em;position: relative;}#sk-container-id-1 div.sk-item {position: relative;z-index: 1;}#sk-container-id-1 div.sk-parallel {display: flex;align-items: stretch;justify-content: center;background-color: white;position: relative;}#sk-container-id-1 div.sk-item::before, #sk-container-id-1 div.sk-parallel-item::before {content: \"\";position: absolute;border-left: 1px solid gray;box-sizing: border-box;top: 0;bottom: 0;left: 50%;z-index: -1;}#sk-container-id-1 div.sk-parallel-item {display: flex;flex-direction: column;z-index: 1;position: relative;background-color: white;}#sk-container-id-1 div.sk-parallel-item:first-child::after {align-self: flex-end;width: 50%;}#sk-container-id-1 div.sk-parallel-item:last-child::after {align-self: flex-start;width: 50%;}#sk-container-id-1 div.sk-parallel-item:only-child::after {width: 0;}#sk-container-id-1 div.sk-dashed-wrapped {border: 1px dashed gray;margin: 0 0.4em 0.5em 0.4em;box-sizing: border-box;padding-bottom: 0.4em;background-color: white;}#sk-container-id-1 div.sk-label label {font-family: monospace;font-weight: bold;display: inline-block;line-height: 1.2em;}#sk-container-id-1 div.sk-label-container {text-align: center;}#sk-container-id-1 div.sk-container {/* jupyter's `normalize.less` sets `[hidden] { display: none; }` but bootstrap.min.css set `[hidden] { display: none !important; }` so we also need the `!important` here to be able to override the default hidden behavior on the sphinx rendered scikit-learn.org. See: https://github.com/scikit-learn/scikit-learn/issues/21755 */display: inline-block !important;position: relative;}#sk-container-id-1 div.sk-text-repr-fallback {display: none;}</style><div id=\"sk-container-id-1\" class=\"sk-top-container\"><div class=\"sk-text-repr-fallback\"><pre>LinearRegression()</pre><b>In a Jupyter environment, please rerun this cell to show the HTML representation or trust the notebook. <br />On GitHub, the HTML representation is unable to render, please try loading this page with nbviewer.org.</b></div><div class=\"sk-container\" hidden><div class=\"sk-item\"><div class=\"sk-estimator sk-toggleable\"><input class=\"sk-toggleable__control sk-hidden--visually\" id=\"sk-estimator-id-1\" type=\"checkbox\" checked><label for=\"sk-estimator-id-1\" class=\"sk-toggleable__label sk-toggleable__label-arrow\">LinearRegression</label><div class=\"sk-toggleable__content\"><pre>LinearRegression()</pre></div></div></div></div></div>"
      ],
      "text/plain": [
       "LinearRegression()"
      ]
     },
     "execution_count": 14,
     "metadata": {},
     "output_type": "execute_result"
    }
   ],
   "source": [
    "from sklearn.linear_model import LinearRegression\n",
    "melon_regressor = LinearRegression()\n",
    "melon_regressor.fit(X_train, y_train)"
   ]
  },
  {
   "cell_type": "markdown",
   "id": "55b923da-4594-44f7-ba7e-b12adca62b2b",
   "metadata": {},
   "source": [
    "მოდელის ეფექტურობა საკმაოდ მაღალია და წარმოადგენს 0.9947887877863348-ს"
   ]
  },
  {
   "cell_type": "code",
   "execution_count": 15,
   "id": "4150dc08-5444-42d3-9a2c-fdc0b1baa73e",
   "metadata": {},
   "outputs": [
    {
     "data": {
      "text/plain": [
       "0.9947887877863348"
      ]
     },
     "execution_count": 15,
     "metadata": {},
     "output_type": "execute_result"
    }
   ],
   "source": [
    "melon_regressor.score(X_test, y_test)"
   ]
  },
  {
   "cell_type": "markdown",
   "id": "699b37d5-f443-4ac1-8ca3-076e5f28e006",
   "metadata": {},
   "source": [
    "სატრენინგო მონაცემებისთვის შედეგის პროგნოზირება"
   ]
  },
  {
   "cell_type": "code",
   "execution_count": 16,
   "id": "43e203bd-0f9c-4d99-9916-ea909741a1d8",
   "metadata": {},
   "outputs": [
    {
     "data": {
      "text/plain": [
       "array([368.00391389, 137.5146771 ])"
      ]
     },
     "execution_count": 16,
     "metadata": {},
     "output_type": "execute_result"
    }
   ],
   "source": [
    "y_pred = melon_regressor.predict(X_test)\n",
    "y_pred"
   ]
  },
  {
   "cell_type": "markdown",
   "id": "bc609df3-a671-4243-b24e-0409b683a215",
   "metadata": {},
   "source": [
    "3.5 წონისს საზამთროსთვის ფასის პროგნიზირება"
   ]
  },
  {
   "cell_type": "code",
   "execution_count": 17,
   "id": "7b2f8970-1fea-499f-aa71-866543728498",
   "metadata": {},
   "outputs": [
    {
     "data": {
      "text/plain": [
       "array([156.7221135])"
      ]
     },
     "execution_count": 17,
     "metadata": {},
     "output_type": "execute_result"
    }
   ],
   "source": [
    "melon_regressor.predict([[3.5]])"
   ]
  },
  {
   "cell_type": "markdown",
   "id": "3638b9a6-6fdb-4247-af9a-032f3026c4f3",
   "metadata": {},
   "source": [
    "სატრენინგო მონაცემებისა და მისი წრფის აგება"
   ]
  },
  {
   "cell_type": "code",
   "execution_count": 18,
   "id": "e5c492b2-5f2d-40d2-a11a-29bce6ef5850",
   "metadata": {},
   "outputs": [
    {
     "data": {
      "image/png": "[encoded data removed]",
      "text/plain": [
       "<Figure size 640x480 with 1 Axes>"
      ]
     },
     "metadata": {},
     "output_type": "display_data"
    }
   ],
   "source": [
    "plt.scatter(X_train, y_train, color = 'green')\n",
    "plt.plot(X_train, melon_regressor.predict(X_train), color = 'darkblue')\n",
    "plt.show()"
   ]
  },
  {
   "cell_type": "markdown",
   "id": "ece20c3b-d2c9-4a48-a85a-ca3aa663e6d5",
   "metadata": {},
   "source": [
    "# მრავალ ცვლადიანი რეგრესიის მოდელი (Multiple linear Regression)"
   ]
  },
  {
   "cell_type": "code",
   "execution_count": 19,
   "id": "bf382d18-5c62-465f-83e5-e7b3083f1360",
   "metadata": {},
   "outputs": [],
   "source": [
    "import numpy as np\n",
    "import matplotlib.pyplot as plt\n",
    "import pandas as pd\n",
    "import seaborn as sns\n",
    "%matplotlib inline"
   ]
  },
  {
   "cell_type": "markdown",
   "id": "e8cc70ff-2d8c-456a-b2d9-e734a49c504c",
   "metadata": {},
   "source": [
    "მოცემული დეითასეთი წარმოადგენს სახლების შესახებ მონაცემებს და უნდა მოვახდინოთ ფასის პროგნოზირება. დათასეთი შეგიძლიათ იხილოთ ბმულზე:\n",
    "https://www.kaggle.com/datasets/vikramamin/housing-linear-regression"
   ]
  },
  {
   "cell_type": "code",
   "execution_count": 19,
   "id": "ec276ed1-ea6f-4839-bd8e-766953f99a1f",
   "metadata": {},
   "outputs": [
    {
     "data": {
      "text/html": [
       "<div>\n",
       "<style scoped>\n",
       "    .dataframe tbody tr th:only-of-type {\n",
       "        vertical-align: middle;\n",
       "    }\n",
       "\n",
       "    .dataframe tbody tr th {\n",
       "        vertical-align: top;\n",
       "    }\n",
       "\n",
       "    .dataframe thead th {\n",
       "        text-align: right;\n",
       "    }\n",
       "</style>\n",
       "<table border=\"1\" class=\"dataframe\">\n",
       "  <thead>\n",
       "    <tr style=\"text-align: right;\">\n",
       "      <th></th>\n",
       "      <th>Avg. Area Income</th>\n",
       "      <th>Avg. Area House Age</th>\n",
       "      <th>Avg. Area Number of Rooms</th>\n",
       "      <th>Avg. Area Number of Bedrooms</th>\n",
       "      <th>Area Population</th>\n",
       "      <th>Price</th>\n",
       "      <th>Address</th>\n",
       "    </tr>\n",
       "  </thead>\n",
       "  <tbody>\n",
       "    <tr>\n",
       "      <th>0</th>\n",
       "      <td>79545.458574</td>\n",
       "      <td>5.682861</td>\n",
       "      <td>7.009188</td>\n",
       "      <td>4.09</td>\n",
       "      <td>23086.800503</td>\n",
       "      <td>1.059034e+06</td>\n",
       "      <td>208 Michael Ferry Apt. 674\\nLaurabury, NE 3701...</td>\n",
       "    </tr>\n",
       "    <tr>\n",
       "      <th>1</th>\n",
       "      <td>79248.642455</td>\n",
       "      <td>6.002900</td>\n",
       "      <td>6.730821</td>\n",
       "      <td>3.09</td>\n",
       "      <td>40173.072174</td>\n",
       "      <td>1.505891e+06</td>\n",
       "      <td>188 Johnson Views Suite 079\\nLake Kathleen, CA...</td>\n",
       "    </tr>\n",
       "    <tr>\n",
       "      <th>2</th>\n",
       "      <td>61287.067179</td>\n",
       "      <td>5.865890</td>\n",
       "      <td>8.512727</td>\n",
       "      <td>5.13</td>\n",
       "      <td>36882.159400</td>\n",
       "      <td>1.058988e+06</td>\n",
       "      <td>9127 Elizabeth Stravenue\\nDanieltown, WI 06482...</td>\n",
       "    </tr>\n",
       "    <tr>\n",
       "      <th>3</th>\n",
       "      <td>63345.240046</td>\n",
       "      <td>7.188236</td>\n",
       "      <td>5.586729</td>\n",
       "      <td>3.26</td>\n",
       "      <td>34310.242831</td>\n",
       "      <td>1.260617e+06</td>\n",
       "      <td>USS Barnett\\nFPO AP 44820</td>\n",
       "    </tr>\n",
       "    <tr>\n",
       "      <th>4</th>\n",
       "      <td>59982.197226</td>\n",
       "      <td>5.040555</td>\n",
       "      <td>7.839388</td>\n",
       "      <td>4.23</td>\n",
       "      <td>26354.109472</td>\n",
       "      <td>6.309435e+05</td>\n",
       "      <td>USNS Raymond\\nFPO AE 09386</td>\n",
       "    </tr>\n",
       "  </tbody>\n",
       "</table>\n",
       "</div>"
      ],
      "text/plain": [
       "   Avg. Area Income  Avg. Area House Age  Avg. Area Number of Rooms  \\\n",
       "0      79545.458574             5.682861                   7.009188   \n",
       "1      79248.642455             6.002900                   6.730821   \n",
       "2      61287.067179             5.865890                   8.512727   \n",
       "3      63345.240046             7.188236                   5.586729   \n",
       "4      59982.197226             5.040555                   7.839388   \n",
       "\n",
       "   Avg. Area Number of Bedrooms  Area Population         Price  \\\n",
       "0                          4.09     23086.800503  1.059034e+06   \n",
       "1                          3.09     40173.072174  1.505891e+06   \n",
       "2                          5.13     36882.159400  1.058988e+06   \n",
       "3                          3.26     34310.242831  1.260617e+06   \n",
       "4                          4.23     26354.109472  6.309435e+05   \n",
       "\n",
       "                                             Address  \n",
       "0  208 Michael Ferry Apt. 674\\nLaurabury, NE 3701...  \n",
       "1  188 Johnson Views Suite 079\\nLake Kathleen, CA...  \n",
       "2  9127 Elizabeth Stravenue\\nDanieltown, WI 06482...  \n",
       "3                          USS Barnett\\nFPO AP 44820  \n",
       "4                         USNS Raymond\\nFPO AE 09386  "
      ]
     },
     "execution_count": 19,
     "metadata": {},
     "output_type": "execute_result"
    }
   ],
   "source": [
    "housing_df = pd.read_csv('Housing.csv')\n",
    "housing_df.head()"
   ]
  },
  {
   "cell_type": "code",
   "execution_count": 20,
   "id": "57f41121-dcd8-4bf6-a99b-00efee950261",
   "metadata": {},
   "outputs": [
    {
     "data": {
      "text/plain": [
       "(5000, 7)"
      ]
     },
     "execution_count": 20,
     "metadata": {},
     "output_type": "execute_result"
    }
   ],
   "source": [
    "housing_df.shape"
   ]
  },
  {
   "cell_type": "code",
   "execution_count": 21,
   "id": "fb84eae8-6a38-4904-beb0-211cd2395439",
   "metadata": {},
   "outputs": [
    {
     "data": {
      "text/plain": [
       "Index(['Avg. Area Income', 'Avg. Area House Age', 'Avg. Area Number of Rooms',\n",
       "       'Avg. Area Number of Bedrooms', 'Area Population', 'Price', 'Address'],\n",
       "      dtype='object')"
      ]
     },
     "execution_count": 21,
     "metadata": {},
     "output_type": "execute_result"
    }
   ],
   "source": [
    "housing_df.columns"
   ]
  },
  {
   "cell_type": "code",
   "execution_count": 22,
   "id": "54871b4e-5659-4755-bc2b-7fcd19ea322f",
   "metadata": {},
   "outputs": [],
   "source": [
    "housing_df.drop('Address', axis=1, inplace=True)"
   ]
  },
  {
   "cell_type": "code",
   "execution_count": 23,
   "id": "bd983b1e-60f9-4726-86ca-a96fb04a965a",
   "metadata": {},
   "outputs": [
    {
     "data": {
      "text/html": [
       "<div>\n",
       "<style scoped>\n",
       "    .dataframe tbody tr th:only-of-type {\n",
       "        vertical-align: middle;\n",
       "    }\n",
       "\n",
       "    .dataframe tbody tr th {\n",
       "        vertical-align: top;\n",
       "    }\n",
       "\n",
       "    .dataframe thead th {\n",
       "        text-align: right;\n",
       "    }\n",
       "</style>\n",
       "<table border=\"1\" class=\"dataframe\">\n",
       "  <thead>\n",
       "    <tr style=\"text-align: right;\">\n",
       "      <th></th>\n",
       "      <th>Avg. Area Income</th>\n",
       "      <th>Avg. Area House Age</th>\n",
       "      <th>Avg. Area Number of Rooms</th>\n",
       "      <th>Avg. Area Number of Bedrooms</th>\n",
       "      <th>Area Population</th>\n",
       "      <th>Price</th>\n",
       "    </tr>\n",
       "  </thead>\n",
       "  <tbody>\n",
       "    <tr>\n",
       "      <th>0</th>\n",
       "      <td>79545.458574</td>\n",
       "      <td>5.682861</td>\n",
       "      <td>7.009188</td>\n",
       "      <td>4.09</td>\n",
       "      <td>23086.800503</td>\n",
       "      <td>1.059034e+06</td>\n",
       "    </tr>\n",
       "    <tr>\n",
       "      <th>1</th>\n",
       "      <td>79248.642455</td>\n",
       "      <td>6.002900</td>\n",
       "      <td>6.730821</td>\n",
       "      <td>3.09</td>\n",
       "      <td>40173.072174</td>\n",
       "      <td>1.505891e+06</td>\n",
       "    </tr>\n",
       "    <tr>\n",
       "      <th>2</th>\n",
       "      <td>61287.067179</td>\n",
       "      <td>5.865890</td>\n",
       "      <td>8.512727</td>\n",
       "      <td>5.13</td>\n",
       "      <td>36882.159400</td>\n",
       "      <td>1.058988e+06</td>\n",
       "    </tr>\n",
       "    <tr>\n",
       "      <th>3</th>\n",
       "      <td>63345.240046</td>\n",
       "      <td>7.188236</td>\n",
       "      <td>5.586729</td>\n",
       "      <td>3.26</td>\n",
       "      <td>34310.242831</td>\n",
       "      <td>1.260617e+06</td>\n",
       "    </tr>\n",
       "    <tr>\n",
       "      <th>4</th>\n",
       "      <td>59982.197226</td>\n",
       "      <td>5.040555</td>\n",
       "      <td>7.839388</td>\n",
       "      <td>4.23</td>\n",
       "      <td>26354.109472</td>\n",
       "      <td>6.309435e+05</td>\n",
       "    </tr>\n",
       "  </tbody>\n",
       "</table>\n",
       "</div>"
      ],
      "text/plain": [
       "   Avg. Area Income  Avg. Area House Age  Avg. Area Number of Rooms  \\\n",
       "0      79545.458574             5.682861                   7.009188   \n",
       "1      79248.642455             6.002900                   6.730821   \n",
       "2      61287.067179             5.865890                   8.512727   \n",
       "3      63345.240046             7.188236                   5.586729   \n",
       "4      59982.197226             5.040555                   7.839388   \n",
       "\n",
       "   Avg. Area Number of Bedrooms  Area Population         Price  \n",
       "0                          4.09     23086.800503  1.059034e+06  \n",
       "1                          3.09     40173.072174  1.505891e+06  \n",
       "2                          5.13     36882.159400  1.058988e+06  \n",
       "3                          3.26     34310.242831  1.260617e+06  \n",
       "4                          4.23     26354.109472  6.309435e+05  "
      ]
     },
     "execution_count": 23,
     "metadata": {},
     "output_type": "execute_result"
    }
   ],
   "source": [
    "housing_df.head()"
   ]
  },
  {
   "cell_type": "markdown",
   "id": "e68368a5-19a0-49af-a319-4ed3052efc2d",
   "metadata": {},
   "source": [
    "შევამოწმოთ რომელიმე ჩანაწერში null ხომ არაა"
   ]
  },
  {
   "cell_type": "code",
   "execution_count": 24,
   "id": "c126e7c8-023b-49d0-8971-0c48301ae558",
   "metadata": {},
   "outputs": [
    {
     "data": {
      "text/plain": [
       "Avg. Area Income                False\n",
       "Avg. Area House Age             False\n",
       "Avg. Area Number of Rooms       False\n",
       "Avg. Area Number of Bedrooms    False\n",
       "Area Population                 False\n",
       "Price                           False\n",
       "dtype: bool"
      ]
     },
     "execution_count": 24,
     "metadata": {},
     "output_type": "execute_result"
    }
   ],
   "source": [
    "housing_df.isnull().any()"
   ]
  },
  {
   "cell_type": "code",
   "execution_count": 25,
   "id": "f4557c48-a4af-449f-8084-b67dd30789cd",
   "metadata": {},
   "outputs": [],
   "source": [
    "housing_X = housing_df.iloc[:, :-1].values\n",
    "housing_y = housing_df.iloc[:, 5].values"
   ]
  },
  {
   "cell_type": "code",
   "execution_count": 26,
   "id": "80968827-9c8b-48fd-ae3b-7103b41742bc",
   "metadata": {},
   "outputs": [
    {
     "data": {
      "text/plain": [
       "array([[7.95454586e+04, 5.68286132e+00, 7.00918814e+00, 4.09000000e+00,\n",
       "        2.30868005e+04],\n",
       "       [7.92486425e+04, 6.00289981e+00, 6.73082102e+00, 3.09000000e+00,\n",
       "        4.01730722e+04],\n",
       "       [6.12870672e+04, 5.86588984e+00, 8.51272743e+00, 5.13000000e+00,\n",
       "        3.68821594e+04],\n",
       "       ...,\n",
       "       [6.33906869e+04, 7.25059061e+00, 4.80508098e+00, 2.13000000e+00,\n",
       "        3.32661455e+04],\n",
       "       [6.80013312e+04, 5.53438842e+00, 7.13014386e+00, 5.44000000e+00,\n",
       "        4.26256202e+04],\n",
       "       [6.55105818e+04, 5.99230531e+00, 6.79233610e+00, 4.07000000e+00,\n",
       "        4.65012838e+04]])"
      ]
     },
     "execution_count": 26,
     "metadata": {},
     "output_type": "execute_result"
    }
   ],
   "source": [
    "housing_X"
   ]
  },
  {
   "cell_type": "code",
   "execution_count": 27,
   "id": "f3107a06-55cd-40c3-a2b3-b8a816e0c1d4",
   "metadata": {},
   "outputs": [
    {
     "data": {
      "text/plain": [
       "array([1059033.55787012, 1505890.91484695, 1058987.98787608, ...,\n",
       "       1030729.58315229, 1198656.87240769, 1298950.48026696])"
      ]
     },
     "execution_count": 27,
     "metadata": {},
     "output_type": "execute_result"
    }
   ],
   "source": [
    "housing_y"
   ]
  },
  {
   "cell_type": "code",
   "execution_count": 28,
   "id": "98eb0474-11af-49da-81b3-66ce52832140",
   "metadata": {},
   "outputs": [
    {
     "data": {
      "text/plain": [
       "<Axes: >"
      ]
     },
     "execution_count": 28,
     "metadata": {},
     "output_type": "execute_result"
    },
    {
     "data": {
      "image/png": "[encoded data removed]",
      "text/plain": [
       "<Figure size 640x480 with 2 Axes>"
      ]
     },
     "metadata": {},
     "output_type": "display_data"
    }
   ],
   "source": [
    "sns.heatmap(housing_df.corr())"
   ]
  },
  {
   "cell_type": "markdown",
   "id": "50df2e7c-59da-448c-b7f8-afbab87cc293",
   "metadata": {},
   "source": [
    "მონაცემების დაყოფა სატრენინგოდ და სატესტოდ. სატესტოს ზომად აღებულია 30%"
   ]
  },
  {
   "cell_type": "code",
   "execution_count": 29,
   "id": "a66808c3-92cc-47cd-9d26-d01e17fd61fb",
   "metadata": {},
   "outputs": [],
   "source": [
    "from sklearn.model_selection import train_test_split\n",
    "X_train, X_test, y_train, y_test = train_test_split(housing_X, housing_y, test_size = 0.3, random_state = 30)"
   ]
  },
  {
   "cell_type": "code",
   "execution_count": 30,
   "id": "24913a3e-f3f4-4640-b375-586412340217",
   "metadata": {},
   "outputs": [
    {
     "data": {
      "text/plain": [
       "(3500, 5)"
      ]
     },
     "execution_count": 30,
     "metadata": {},
     "output_type": "execute_result"
    }
   ],
   "source": [
    "X_train.shape"
   ]
  },
  {
   "cell_type": "code",
   "execution_count": 31,
   "id": "83d0d820-17b6-417b-a8be-55f1e8daf52a",
   "metadata": {},
   "outputs": [
    {
     "data": {
      "text/plain": [
       "(1500, 5)"
      ]
     },
     "execution_count": 31,
     "metadata": {},
     "output_type": "execute_result"
    }
   ],
   "source": [
    "X_test.shape"
   ]
  },
  {
   "cell_type": "code",
   "execution_count": 32,
   "id": "ac954169-7298-4e16-bba4-d594b0c58784",
   "metadata": {},
   "outputs": [
    {
     "data": {
      "text/html": [
       "<style>#sk-container-id-2 {color: black;}#sk-container-id-2 pre{padding: 0;}#sk-container-id-2 div.sk-toggleable {background-color: white;}#sk-container-id-2 label.sk-toggleable__label {cursor: pointer;display: block;width: 100%;margin-bottom: 0;padding: 0.3em;box-sizing: border-box;text-align: center;}#sk-container-id-2 label.sk-toggleable__label-arrow:before {content: \"▸\";float: left;margin-right: 0.25em;color: #696969;}#sk-container-id-2 label.sk-toggleable__label-arrow:hover:before {color: black;}#sk-container-id-2 div.sk-estimator:hover label.sk-toggleable__label-arrow:before {color: black;}#sk-container-id-2 div.sk-toggleable__content {max-height: 0;max-width: 0;overflow: hidden;text-align: left;background-color: #f0f8ff;}#sk-container-id-2 div.sk-toggleable__content pre {margin: 0.2em;color: black;border-radius: 0.25em;background-color: #f0f8ff;}#sk-container-id-2 input.sk-toggleable__control:checked~div.sk-toggleable__content {max-height: 200px;max-width: 100%;overflow: auto;}#sk-container-id-2 input.sk-toggleable__control:checked~label.sk-toggleable__label-arrow:before {content: \"▾\";}#sk-container-id-2 div.sk-estimator input.sk-toggleable__control:checked~label.sk-toggleable__label {background-color: #d4ebff;}#sk-container-id-2 div.sk-label input.sk-toggleable__control:checked~label.sk-toggleable__label {background-color: #d4ebff;}#sk-container-id-2 input.sk-hidden--visually {border: 0;clip: rect(1px 1px 1px 1px);clip: rect(1px, 1px, 1px, 1px);height: 1px;margin: -1px;overflow: hidden;padding: 0;position: absolute;width: 1px;}#sk-container-id-2 div.sk-estimator {font-family: monospace;background-color: #f0f8ff;border: 1px dotted black;border-radius: 0.25em;box-sizing: border-box;margin-bottom: 0.5em;}#sk-container-id-2 div.sk-estimator:hover {background-color: #d4ebff;}#sk-container-id-2 div.sk-parallel-item::after {content: \"\";width: 100%;border-bottom: 1px solid gray;flex-grow: 1;}#sk-container-id-2 div.sk-label:hover label.sk-toggleable__label {background-color: #d4ebff;}#sk-container-id-2 div.sk-serial::before {content: \"\";position: absolute;border-left: 1px solid gray;box-sizing: border-box;top: 0;bottom: 0;left: 50%;z-index: 0;}#sk-container-id-2 div.sk-serial {display: flex;flex-direction: column;align-items: center;background-color: white;padding-right: 0.2em;padding-left: 0.2em;position: relative;}#sk-container-id-2 div.sk-item {position: relative;z-index: 1;}#sk-container-id-2 div.sk-parallel {display: flex;align-items: stretch;justify-content: center;background-color: white;position: relative;}#sk-container-id-2 div.sk-item::before, #sk-container-id-2 div.sk-parallel-item::before {content: \"\";position: absolute;border-left: 1px solid gray;box-sizing: border-box;top: 0;bottom: 0;left: 50%;z-index: -1;}#sk-container-id-2 div.sk-parallel-item {display: flex;flex-direction: column;z-index: 1;position: relative;background-color: white;}#sk-container-id-2 div.sk-parallel-item:first-child::after {align-self: flex-end;width: 50%;}#sk-container-id-2 div.sk-parallel-item:last-child::after {align-self: flex-start;width: 50%;}#sk-container-id-2 div.sk-parallel-item:only-child::after {width: 0;}#sk-container-id-2 div.sk-dashed-wrapped {border: 1px dashed gray;margin: 0 0.4em 0.5em 0.4em;box-sizing: border-box;padding-bottom: 0.4em;background-color: white;}#sk-container-id-2 div.sk-label label {font-family: monospace;font-weight: bold;display: inline-block;line-height: 1.2em;}#sk-container-id-2 div.sk-label-container {text-align: center;}#sk-container-id-2 div.sk-container {/* jupyter's `normalize.less` sets `[hidden] { display: none; }` but bootstrap.min.css set `[hidden] { display: none !important; }` so we also need the `!important` here to be able to override the default hidden behavior on the sphinx rendered scikit-learn.org. See: https://github.com/scikit-learn/scikit-learn/issues/21755 */display: inline-block !important;position: relative;}#sk-container-id-2 div.sk-text-repr-fallback {display: none;}</style><div id=\"sk-container-id-2\" class=\"sk-top-container\"><div class=\"sk-text-repr-fallback\"><pre>LinearRegression()</pre><b>In a Jupyter environment, please rerun this cell to show the HTML representation or trust the notebook. <br />On GitHub, the HTML representation is unable to render, please try loading this page with nbviewer.org.</b></div><div class=\"sk-container\" hidden><div class=\"sk-item\"><div class=\"sk-estimator sk-toggleable\"><input class=\"sk-toggleable__control sk-hidden--visually\" id=\"sk-estimator-id-2\" type=\"checkbox\" checked><label for=\"sk-estimator-id-2\" class=\"sk-toggleable__label sk-toggleable__label-arrow\">LinearRegression</label><div class=\"sk-toggleable__content\"><pre>LinearRegression()</pre></div></div></div></div></div>"
      ],
      "text/plain": [
       "LinearRegression()"
      ]
     },
     "execution_count": 32,
     "metadata": {},
     "output_type": "execute_result"
    }
   ],
   "source": [
    "from sklearn.linear_model import LinearRegression\n",
    "housing_regressor = LinearRegression()\n",
    "housing_regressor.fit(X_train, y_train)"
   ]
  },
  {
   "cell_type": "markdown",
   "id": "678bd7ac-e139-40da-af09-bd785165900e",
   "metadata": {},
   "source": [
    "მოდელის ეფექტურობა მაღალია და წარმოადგენს 0.9125718521857343"
   ]
  },
  {
   "cell_type": "code",
   "execution_count": 33,
   "id": "03f8a38f-8708-4abe-a1ae-5a4680c533b8",
   "metadata": {},
   "outputs": [
    {
     "data": {
      "text/plain": [
       "0.9125718521857343"
      ]
     },
     "execution_count": 33,
     "metadata": {},
     "output_type": "execute_result"
    }
   ],
   "source": [
    "housing_regressor.score(X_test, y_test)"
   ]
  },
  {
   "cell_type": "markdown",
   "id": "171af72d-e5be-406a-a51a-b637072db7db",
   "metadata": {},
   "source": [
    "სატრენინგო მონაცემებისთვის შედეგის პროგნოზირება"
   ]
  },
  {
   "cell_type": "code",
   "execution_count": 34,
   "id": "81891e02-11d1-467e-a230-fdf043bf92a1",
   "metadata": {},
   "outputs": [
    {
     "data": {
      "text/plain": [
       "array([1466037.18162832, 1467071.86181558, 1101596.16978137, ...,\n",
       "       1520358.2058783 ,  935336.04368952, 1338120.16213878])"
      ]
     },
     "execution_count": 34,
     "metadata": {},
     "output_type": "execute_result"
    }
   ],
   "source": [
    "y_predi = housing_regressor.predict(X_test)\n",
    "y_predi"
   ]
  },
  {
   "cell_type": "code",
   "execution_count": 35,
   "id": "101df4d1-e74a-4139-a4bc-ab57a613eea8",
   "metadata": {},
   "outputs": [],
   "source": [
    "# housing_df.iloc[5, 5]"
   ]
  },
  {
   "cell_type": "markdown",
   "id": "6e364ca4-1c97-4f97-8745-f180c81a747a",
   "metadata": {},
   "source": [
    "გადაცემული მახასიათებლების მქონე სახლისთვის ფასის პროგნოზირება"
   ]
  },
  {
   "cell_type": "code",
   "execution_count": 36,
   "id": "bfc310ee-4120-4c66-a06c-b170ac22184a",
   "metadata": {},
   "outputs": [
    {
     "data": {
      "text/plain": [
       "array([1057518.50656371])"
      ]
     },
     "execution_count": 36,
     "metadata": {},
     "output_type": "execute_result"
    }
   ],
   "source": [
    "housing_regressor.predict([[80375.754159, 4.928208, 6.114512, 4.08, 26349.428847]])"
   ]
  },
  {
   "cell_type": "markdown",
   "id": "8e0166fb-382b-4ae9-8028-ab8a2c0e52b7",
   "metadata": {},
   "source": [
    "# გადაწყვეტილების ხის რეგრესიის მოდელი"
   ]
  },
  {
   "cell_type": "markdown",
   "id": "c3c78c53-cdcb-4058-bc6c-7627554cb4ae",
   "metadata": {},
   "source": [
    "მოცემულია დეითასეთი წითელი ღვინის შესახებ და ხდება მისი ხარისხის პროგნოზირება. ხარისხი იზომება რიცხვებში. მოცემული დეითასეტი შეგიძლიათ იხილოთ ბმულზე\n",
    "https://www.kaggle.com/datasets/uciml/red-wine-quality-cortez-et-al-2009?select=winequality-red.csv"
   ]
  },
  {
   "cell_type": "code",
   "execution_count": 37,
   "id": "36465069-ee3b-4cd2-a6fc-f646e07ade12",
   "metadata": {},
   "outputs": [],
   "source": [
    "import numpy as np \n",
    "import pandas as pd \n",
    "import matplotlib.pyplot as plt \n",
    "from sklearn.tree import DecisionTreeRegressor "
   ]
  },
  {
   "cell_type": "code",
   "execution_count": 38,
   "id": "20098204-1d68-4fd0-b858-c708f4918094",
   "metadata": {},
   "outputs": [
    {
     "data": {
      "text/html": [
       "<div>\n",
       "<style scoped>\n",
       "    .dataframe tbody tr th:only-of-type {\n",
       "        vertical-align: middle;\n",
       "    }\n",
       "\n",
       "    .dataframe tbody tr th {\n",
       "        vertical-align: top;\n",
       "    }\n",
       "\n",
       "    .dataframe thead th {\n",
       "        text-align: right;\n",
       "    }\n",
       "</style>\n",
       "<table border=\"1\" class=\"dataframe\">\n",
       "  <thead>\n",
       "    <tr style=\"text-align: right;\">\n",
       "      <th></th>\n",
       "      <th>fixed acidity</th>\n",
       "      <th>volatile acidity</th>\n",
       "      <th>citric acid</th>\n",
       "      <th>residual sugar</th>\n",
       "      <th>chlorides</th>\n",
       "      <th>free sulfur dioxide</th>\n",
       "      <th>total sulfur dioxide</th>\n",
       "      <th>density</th>\n",
       "      <th>pH</th>\n",
       "      <th>sulphates</th>\n",
       "      <th>alcohol</th>\n",
       "      <th>quality</th>\n",
       "    </tr>\n",
       "  </thead>\n",
       "  <tbody>\n",
       "    <tr>\n",
       "      <th>0</th>\n",
       "      <td>7.4</td>\n",
       "      <td>0.70</td>\n",
       "      <td>0.00</td>\n",
       "      <td>1.9</td>\n",
       "      <td>0.076</td>\n",
       "      <td>11.0</td>\n",
       "      <td>34.0</td>\n",
       "      <td>0.9978</td>\n",
       "      <td>3.51</td>\n",
       "      <td>0.56</td>\n",
       "      <td>9.4</td>\n",
       "      <td>5</td>\n",
       "    </tr>\n",
       "    <tr>\n",
       "      <th>1</th>\n",
       "      <td>7.8</td>\n",
       "      <td>0.88</td>\n",
       "      <td>0.00</td>\n",
       "      <td>2.6</td>\n",
       "      <td>0.098</td>\n",
       "      <td>25.0</td>\n",
       "      <td>67.0</td>\n",
       "      <td>0.9968</td>\n",
       "      <td>3.20</td>\n",
       "      <td>0.68</td>\n",
       "      <td>9.8</td>\n",
       "      <td>5</td>\n",
       "    </tr>\n",
       "    <tr>\n",
       "      <th>2</th>\n",
       "      <td>7.8</td>\n",
       "      <td>0.76</td>\n",
       "      <td>0.04</td>\n",
       "      <td>2.3</td>\n",
       "      <td>0.092</td>\n",
       "      <td>15.0</td>\n",
       "      <td>54.0</td>\n",
       "      <td>0.9970</td>\n",
       "      <td>3.26</td>\n",
       "      <td>0.65</td>\n",
       "      <td>9.8</td>\n",
       "      <td>5</td>\n",
       "    </tr>\n",
       "    <tr>\n",
       "      <th>3</th>\n",
       "      <td>11.2</td>\n",
       "      <td>0.28</td>\n",
       "      <td>0.56</td>\n",
       "      <td>1.9</td>\n",
       "      <td>0.075</td>\n",
       "      <td>17.0</td>\n",
       "      <td>60.0</td>\n",
       "      <td>0.9980</td>\n",
       "      <td>3.16</td>\n",
       "      <td>0.58</td>\n",
       "      <td>9.8</td>\n",
       "      <td>6</td>\n",
       "    </tr>\n",
       "    <tr>\n",
       "      <th>4</th>\n",
       "      <td>7.4</td>\n",
       "      <td>0.70</td>\n",
       "      <td>0.00</td>\n",
       "      <td>1.9</td>\n",
       "      <td>0.076</td>\n",
       "      <td>11.0</td>\n",
       "      <td>34.0</td>\n",
       "      <td>0.9978</td>\n",
       "      <td>3.51</td>\n",
       "      <td>0.56</td>\n",
       "      <td>9.4</td>\n",
       "      <td>5</td>\n",
       "    </tr>\n",
       "  </tbody>\n",
       "</table>\n",
       "</div>"
      ],
      "text/plain": [
       "   fixed acidity  volatile acidity  citric acid  residual sugar  chlorides  \\\n",
       "0            7.4              0.70         0.00             1.9      0.076   \n",
       "1            7.8              0.88         0.00             2.6      0.098   \n",
       "2            7.8              0.76         0.04             2.3      0.092   \n",
       "3           11.2              0.28         0.56             1.9      0.075   \n",
       "4            7.4              0.70         0.00             1.9      0.076   \n",
       "\n",
       "   free sulfur dioxide  total sulfur dioxide  density    pH  sulphates  \\\n",
       "0                 11.0                  34.0   0.9978  3.51       0.56   \n",
       "1                 25.0                  67.0   0.9968  3.20       0.68   \n",
       "2                 15.0                  54.0   0.9970  3.26       0.65   \n",
       "3                 17.0                  60.0   0.9980  3.16       0.58   \n",
       "4                 11.0                  34.0   0.9978  3.51       0.56   \n",
       "\n",
       "   alcohol  quality  \n",
       "0      9.4        5  \n",
       "1      9.8        5  \n",
       "2      9.8        5  \n",
       "3      9.8        6  \n",
       "4      9.4        5  "
      ]
     },
     "execution_count": 38,
     "metadata": {},
     "output_type": "execute_result"
    }
   ],
   "source": [
    "wine_df = pd.read_csv('winequality-red.csv')\n",
    "wine_df.head()"
   ]
  },
  {
   "cell_type": "markdown",
   "id": "23898c42-3ec8-42a4-af92-8202bed6de50",
   "metadata": {},
   "source": [
    "შევამოწმოთ რომელიმე ჩანაწერში null ხომ არაა"
   ]
  },
  {
   "cell_type": "code",
   "execution_count": 39,
   "id": "c3aa64ec-422c-4bf3-9fb3-943e0a819fa3",
   "metadata": {},
   "outputs": [
    {
     "data": {
      "text/plain": [
       "fixed acidity           False\n",
       "volatile acidity        False\n",
       "citric acid             False\n",
       "residual sugar          False\n",
       "chlorides               False\n",
       "free sulfur dioxide     False\n",
       "total sulfur dioxide    False\n",
       "density                 False\n",
       "pH                      False\n",
       "sulphates               False\n",
       "alcohol                 False\n",
       "quality                 False\n",
       "dtype: bool"
      ]
     },
     "execution_count": 39,
     "metadata": {},
     "output_type": "execute_result"
    }
   ],
   "source": [
    "wine_df.isnull().any()"
   ]
  },
  {
   "cell_type": "markdown",
   "id": "6b6f5ca4-8dcc-49ee-9b9b-acf02632f00e",
   "metadata": {},
   "source": [
    "დამოკიდებული და დამოუკიდებელი სვეტების განცალკევება"
   ]
  },
  {
   "cell_type": "code",
   "execution_count": 40,
   "id": "37eb9389-0550-406e-aae7-6056b1f423aa",
   "metadata": {},
   "outputs": [],
   "source": [
    "wine_X = wine_df.drop('quality', axis = 1).values \n",
    "wine_y = wine_df['quality'].values "
   ]
  },
  {
   "cell_type": "code",
   "execution_count": 41,
   "id": "fe1cf3d8-b0f1-4978-93c8-0e18a8175890",
   "metadata": {},
   "outputs": [
    {
     "data": {
      "text/plain": [
       "array([[ 7.4  ,  0.7  ,  0.   , ...,  3.51 ,  0.56 ,  9.4  ],\n",
       "       [ 7.8  ,  0.88 ,  0.   , ...,  3.2  ,  0.68 ,  9.8  ],\n",
       "       [ 7.8  ,  0.76 ,  0.04 , ...,  3.26 ,  0.65 ,  9.8  ],\n",
       "       ...,\n",
       "       [ 6.3  ,  0.51 ,  0.13 , ...,  3.42 ,  0.75 , 11.   ],\n",
       "       [ 5.9  ,  0.645,  0.12 , ...,  3.57 ,  0.71 , 10.2  ],\n",
       "       [ 6.   ,  0.31 ,  0.47 , ...,  3.39 ,  0.66 , 11.   ]])"
      ]
     },
     "execution_count": 41,
     "metadata": {},
     "output_type": "execute_result"
    }
   ],
   "source": [
    "wine_X"
   ]
  },
  {
   "cell_type": "markdown",
   "id": "7fb68536-c6d1-4e89-8414-47628a852d94",
   "metadata": {},
   "source": [
    "მონაცემების დაყოფა სატრენინგოდ და სატესტოდ. სატესტოს ზომად აღებულია 25%"
   ]
  },
  {
   "cell_type": "code",
   "execution_count": 42,
   "id": "3ae436f0-3c23-404b-84fc-08a12a2b4bc1",
   "metadata": {},
   "outputs": [],
   "source": [
    "from sklearn.model_selection import train_test_split \n",
    "X_train, X_test, y_train, y_test = train_test_split(wine_X, wine_y, test_size = 0.25, random_state = 14)"
   ]
  },
  {
   "cell_type": "markdown",
   "id": "c8af6ac8-bbdf-44bc-91ab-60c4f362c299",
   "metadata": {},
   "source": [
    "DecisionTreeRegressor მოდელის შექმნა სიღრმით 4 და სატრენინგო მონაცემებზე დატრენინგება"
   ]
  },
  {
   "cell_type": "code",
   "execution_count": 43,
   "id": "cd432c35-01ce-437b-9041-c9ee358420a5",
   "metadata": {},
   "outputs": [
    {
     "data": {
      "text/html": [
       "<style>#sk-container-id-3 {color: black;}#sk-container-id-3 pre{padding: 0;}#sk-container-id-3 div.sk-toggleable {background-color: white;}#sk-container-id-3 label.sk-toggleable__label {cursor: pointer;display: block;width: 100%;margin-bottom: 0;padding: 0.3em;box-sizing: border-box;text-align: center;}#sk-container-id-3 label.sk-toggleable__label-arrow:before {content: \"▸\";float: left;margin-right: 0.25em;color: #696969;}#sk-container-id-3 label.sk-toggleable__label-arrow:hover:before {color: black;}#sk-container-id-3 div.sk-estimator:hover label.sk-toggleable__label-arrow:before {color: black;}#sk-container-id-3 div.sk-toggleable__content {max-height: 0;max-width: 0;overflow: hidden;text-align: left;background-color: #f0f8ff;}#sk-container-id-3 div.sk-toggleable__content pre {margin: 0.2em;color: black;border-radius: 0.25em;background-color: #f0f8ff;}#sk-container-id-3 input.sk-toggleable__control:checked~div.sk-toggleable__content {max-height: 200px;max-width: 100%;overflow: auto;}#sk-container-id-3 input.sk-toggleable__control:checked~label.sk-toggleable__label-arrow:before {content: \"▾\";}#sk-container-id-3 div.sk-estimator input.sk-toggleable__control:checked~label.sk-toggleable__label {background-color: #d4ebff;}#sk-container-id-3 div.sk-label input.sk-toggleable__control:checked~label.sk-toggleable__label {background-color: #d4ebff;}#sk-container-id-3 input.sk-hidden--visually {border: 0;clip: rect(1px 1px 1px 1px);clip: rect(1px, 1px, 1px, 1px);height: 1px;margin: -1px;overflow: hidden;padding: 0;position: absolute;width: 1px;}#sk-container-id-3 div.sk-estimator {font-family: monospace;background-color: #f0f8ff;border: 1px dotted black;border-radius: 0.25em;box-sizing: border-box;margin-bottom: 0.5em;}#sk-container-id-3 div.sk-estimator:hover {background-color: #d4ebff;}#sk-container-id-3 div.sk-parallel-item::after {content: \"\";width: 100%;border-bottom: 1px solid gray;flex-grow: 1;}#sk-container-id-3 div.sk-label:hover label.sk-toggleable__label {background-color: #d4ebff;}#sk-container-id-3 div.sk-serial::before {content: \"\";position: absolute;border-left: 1px solid gray;box-sizing: border-box;top: 0;bottom: 0;left: 50%;z-index: 0;}#sk-container-id-3 div.sk-serial {display: flex;flex-direction: column;align-items: center;background-color: white;padding-right: 0.2em;padding-left: 0.2em;position: relative;}#sk-container-id-3 div.sk-item {position: relative;z-index: 1;}#sk-container-id-3 div.sk-parallel {display: flex;align-items: stretch;justify-content: center;background-color: white;position: relative;}#sk-container-id-3 div.sk-item::before, #sk-container-id-3 div.sk-parallel-item::before {content: \"\";position: absolute;border-left: 1px solid gray;box-sizing: border-box;top: 0;bottom: 0;left: 50%;z-index: -1;}#sk-container-id-3 div.sk-parallel-item {display: flex;flex-direction: column;z-index: 1;position: relative;background-color: white;}#sk-container-id-3 div.sk-parallel-item:first-child::after {align-self: flex-end;width: 50%;}#sk-container-id-3 div.sk-parallel-item:last-child::after {align-self: flex-start;width: 50%;}#sk-container-id-3 div.sk-parallel-item:only-child::after {width: 0;}#sk-container-id-3 div.sk-dashed-wrapped {border: 1px dashed gray;margin: 0 0.4em 0.5em 0.4em;box-sizing: border-box;padding-bottom: 0.4em;background-color: white;}#sk-container-id-3 div.sk-label label {font-family: monospace;font-weight: bold;display: inline-block;line-height: 1.2em;}#sk-container-id-3 div.sk-label-container {text-align: center;}#sk-container-id-3 div.sk-container {/* jupyter's `normalize.less` sets `[hidden] { display: none; }` but bootstrap.min.css set `[hidden] { display: none !important; }` so we also need the `!important` here to be able to override the default hidden behavior on the sphinx rendered scikit-learn.org. See: https://github.com/scikit-learn/scikit-learn/issues/21755 */display: inline-block !important;position: relative;}#sk-container-id-3 div.sk-text-repr-fallback {display: none;}</style><div id=\"sk-container-id-3\" class=\"sk-top-container\"><div class=\"sk-text-repr-fallback\"><pre>DecisionTreeRegressor(max_depth=4, random_state=0)</pre><b>In a Jupyter environment, please rerun this cell to show the HTML representation or trust the notebook. <br />On GitHub, the HTML representation is unable to render, please try loading this page with nbviewer.org.</b></div><div class=\"sk-container\" hidden><div class=\"sk-item\"><div class=\"sk-estimator sk-toggleable\"><input class=\"sk-toggleable__control sk-hidden--visually\" id=\"sk-estimator-id-3\" type=\"checkbox\" checked><label for=\"sk-estimator-id-3\" class=\"sk-toggleable__label sk-toggleable__label-arrow\">DecisionTreeRegressor</label><div class=\"sk-toggleable__content\"><pre>DecisionTreeRegressor(max_depth=4, random_state=0)</pre></div></div></div></div></div>"
      ],
      "text/plain": [
       "DecisionTreeRegressor(max_depth=4, random_state=0)"
      ]
     },
     "execution_count": 43,
     "metadata": {},
     "output_type": "execute_result"
    }
   ],
   "source": [
    "wine_treeRegressor = DecisionTreeRegressor(max_depth=4, random_state = 0) \n",
    "wine_treeRegressor.fit(X_train, y_train)"
   ]
  },
  {
   "cell_type": "markdown",
   "id": "3450df4c-58ce-48fe-a5f9-38e534b42011",
   "metadata": {},
   "source": [
    "მოდელს აქვს საკმაოდ დაბალი სიზუსტე 0.36168043009244377"
   ]
  },
  {
   "cell_type": "code",
   "execution_count": 44,
   "id": "5691211e-3f63-47c6-9b3b-0096428dcc95",
   "metadata": {},
   "outputs": [
    {
     "data": {
      "text/plain": [
       "0.36168043009244377"
      ]
     },
     "execution_count": 44,
     "metadata": {},
     "output_type": "execute_result"
    }
   ],
   "source": [
    "wine_treeRegressor.score(X_test, y_test)"
   ]
  },
  {
   "cell_type": "markdown",
   "id": "d6d780d4-e574-4604-b9dc-6461f115cc46",
   "metadata": {},
   "source": [
    "სატესტო მონაცემებისთვის შედეგის პროგნოზირება"
   ]
  },
  {
   "cell_type": "code",
   "execution_count": 45,
   "id": "bfb410d9-1d65-43f0-8930-3996df85349c",
   "metadata": {},
   "outputs": [
    {
     "data": {
      "text/plain": [
       "array([5.26764706, 5.26764706, 5.88      , 5.0625    , 6.75      ,\n",
       "       5.57837838, 5.26764706, 5.57837838, 5.0625    , 5.64492754,\n",
       "       5.16666667, 5.26764706, 6.18518519, 5.0625    , 5.26764706,\n",
       "       5.0625    , 6.27777778, 5.0625    , 5.64492754, 5.90789474,\n",
       "       5.57837838, 5.26764706, 5.90789474, 5.26764706, 5.26764706,\n",
       "       6.27777778, 5.64492754, 5.26764706, 5.26764706, 5.        ,\n",
       "       5.26764706, 5.57837838, 5.57837838, 6.27777778, 6.75      ,\n",
       "       6.75      , 5.64492754, 5.57837838, 5.57837838, 5.88      ,\n",
       "       5.64492754, 5.72727273, 5.26764706, 6.27777778, 5.26764706,\n",
       "       5.57837838, 5.0625    , 6.75      , 5.90789474, 6.27777778,\n",
       "       5.64492754, 5.57837838, 6.75      , 5.26764706, 5.0625    ,\n",
       "       6.18518519, 5.26764706, 5.26764706, 5.57837838, 3.5       ,\n",
       "       5.90789474, 5.26764706, 5.64492754, 5.0625    , 5.90789474,\n",
       "       5.26764706, 5.26764706, 5.57837838, 5.57837838, 6.27777778,\n",
       "       5.26764706, 5.57837838, 5.90789474, 5.88      , 5.90789474,\n",
       "       5.26764706, 5.64492754, 5.64492754, 6.27777778, 6.27777778,\n",
       "       5.26764706, 6.27777778, 6.27777778, 5.26764706, 5.26764706,\n",
       "       6.18518519, 5.26764706, 5.0625    , 5.16666667, 5.64492754,\n",
       "       5.90789474, 5.16666667, 6.75      , 5.57837838, 6.18518519,\n",
       "       5.57837838, 5.90789474, 6.18518519, 5.0625    , 6.27777778,\n",
       "       5.90789474, 6.75      , 6.75      , 5.0625    , 5.0625    ,\n",
       "       5.90789474, 5.26764706, 5.90789474, 5.64492754, 5.26764706,\n",
       "       5.26764706, 5.0625    , 6.75      , 5.90789474, 5.57837838,\n",
       "       5.0625    , 6.75      , 5.57837838, 5.64492754, 5.26764706,\n",
       "       5.26764706, 5.26764706, 6.75      , 5.57837838, 5.26764706,\n",
       "       5.26764706, 5.64492754, 5.26764706, 5.90789474, 5.0625    ,\n",
       "       6.27777778, 5.90789474, 5.64492754, 5.64492754, 5.64492754,\n",
       "       5.57837838, 5.26764706, 5.0625    , 5.64492754, 5.57837838,\n",
       "       5.64492754, 5.64492754, 6.27777778, 5.26764706, 5.90789474,\n",
       "       5.64492754, 5.64492754, 5.64492754, 5.26764706, 5.64492754,\n",
       "       5.0625    , 6.55      , 5.64492754, 5.26764706, 5.90789474,\n",
       "       5.26764706, 5.26764706, 5.57837838, 5.0625    , 5.26764706,\n",
       "       5.90789474, 5.64492754, 5.90789474, 5.90789474, 5.0625    ,\n",
       "       5.0625    , 5.26764706, 6.27777778, 5.64492754, 5.26764706,\n",
       "       5.57837838, 5.57837838, 5.0625    , 5.57837838, 5.26764706,\n",
       "       6.27777778, 5.26764706, 6.18518519, 5.90789474, 5.26764706,\n",
       "       5.57837838, 5.26764706, 5.0625    , 5.72727273, 5.64492754,\n",
       "       5.90789474, 5.0625    , 6.75      , 5.26764706, 5.0625    ,\n",
       "       5.64492754, 3.5       , 5.26764706, 5.57837838, 5.64492754,\n",
       "       6.75      , 5.26764706, 5.26764706, 5.57837838, 5.26764706,\n",
       "       6.27777778, 5.0625    , 5.0625    , 5.26764706, 6.75      ,\n",
       "       5.26764706, 5.88      , 5.0625    , 6.75      , 6.27777778,\n",
       "       5.26764706, 5.57837838, 5.0625    , 6.18518519, 5.26764706,\n",
       "       6.75      , 5.64492754, 5.64492754, 5.0625    , 6.18518519,\n",
       "       5.57837838, 5.64492754, 5.57837838, 5.0625    , 6.75      ,\n",
       "       6.75      , 5.0625    , 5.26764706, 5.0625    , 5.57837838,\n",
       "       5.26764706, 5.64492754, 6.22222222, 5.64492754, 6.27777778,\n",
       "       5.72727273, 5.57837838, 5.90789474, 5.57837838, 5.26764706,\n",
       "       5.90789474, 5.57837838, 5.90789474, 5.57837838, 5.0625    ,\n",
       "       6.27777778, 5.0625    , 5.64492754, 5.72727273, 5.64492754,\n",
       "       5.26764706, 6.75      , 5.0625    , 5.0625    , 5.90789474,\n",
       "       6.75      , 5.26764706, 5.57837838, 5.57837838, 5.90789474,\n",
       "       5.0625    , 5.57837838, 5.26764706, 5.57837838, 5.26764706,\n",
       "       5.64492754, 5.0625    , 5.57837838, 5.57837838, 5.0625    ,\n",
       "       6.27777778, 5.90789474, 5.64492754, 5.64492754, 5.26764706,\n",
       "       5.26764706, 5.0625    , 5.0625    , 5.0625    , 5.64492754,\n",
       "       5.26764706, 5.26764706, 5.57837838, 5.0625    , 5.26764706,\n",
       "       6.18518519, 5.26764706, 5.88      , 5.26764706, 5.57837838,\n",
       "       5.26764706, 5.26764706, 5.26764706, 5.90789474, 5.90789474,\n",
       "       5.0625    , 5.26764706, 5.64492754, 5.90789474, 5.90789474,\n",
       "       5.0625    , 5.57837838, 5.57837838, 5.90789474, 5.88      ,\n",
       "       5.0625    , 5.57837838, 6.55      , 5.64492754, 5.64492754,\n",
       "       5.57837838, 6.27777778, 5.26764706, 5.26764706, 5.26764706,\n",
       "       5.26764706, 6.27777778, 5.26764706, 5.64492754, 5.90789474,\n",
       "       5.64492754, 5.64492754, 6.27777778, 5.57837838, 5.57837838,\n",
       "       5.26764706, 5.26764706, 5.64492754, 5.64492754, 5.57837838,\n",
       "       5.0625    , 5.26764706, 5.64492754, 5.57837838, 6.75      ,\n",
       "       5.57837838, 5.64492754, 5.0625    , 5.90789474, 5.57837838,\n",
       "       5.0625    , 5.0625    , 5.57837838, 5.26764706, 5.26764706,\n",
       "       5.57837838, 5.26764706, 5.0625    , 5.90789474, 6.27777778,\n",
       "       5.26764706, 5.64492754, 5.0625    , 5.26764706, 5.0625    ,\n",
       "       5.57837838, 5.26764706, 6.27777778, 5.90789474, 5.57837838,\n",
       "       5.90789474, 6.18518519, 5.0625    , 5.0625    , 5.26764706,\n",
       "       5.64492754, 6.22222222, 5.64492754, 6.27777778, 6.55      ,\n",
       "       5.64492754, 5.0625    , 5.57837838, 5.26764706, 5.88      ,\n",
       "       6.75      , 6.22222222, 5.0625    , 5.26764706, 5.57837838,\n",
       "       6.75      , 6.75      , 5.90789474, 5.90789474, 5.26764706,\n",
       "       5.57837838, 5.26764706, 6.75      , 5.64492754, 6.18518519,\n",
       "       5.26764706, 5.64492754, 5.64492754, 5.0625    , 6.18518519,\n",
       "       6.75      , 5.90789474, 6.27777778, 6.18518519, 6.75      ])"
      ]
     },
     "execution_count": 45,
     "metadata": {},
     "output_type": "execute_result"
    }
   ],
   "source": [
    "y_pred = wine_treeRegressor.predict(X_test) \n",
    "y_pred"
   ]
  },
  {
   "cell_type": "markdown",
   "id": "13f51177-769c-4496-8264-f776f1d2bf25",
   "metadata": {},
   "source": [
    "11.8, 0.4, 0.46, 1.3, 0.045, 14.0, 65.0, 0.1, 3.14, 0.54, 9.9   მახასიათებლების მქონდე წითელი ღვინისთვის ხარისხის პროგნოზირება"
   ]
  },
  {
   "cell_type": "code",
   "execution_count": 46,
   "id": "1132e0e0-f9d6-4c46-b5a4-f89ea7702d78",
   "metadata": {},
   "outputs": [
    {
     "data": {
      "text/plain": [
       "5.578378378378378"
      ]
     },
     "execution_count": 46,
     "metadata": {},
     "output_type": "execute_result"
    }
   ],
   "source": [
    "wine_treeRegressor.predict([[11.8,\t0.4, 0.46, 1.3, 0.045, 14.0, 65.0, 0.1, 3.14, 0.54, 9.9]])[0]"
   ]
  },
  {
   "cell_type": "code",
   "execution_count": 47,
   "id": "26910828-e874-435d-8cd0-7e25ddbabe22",
   "metadata": {},
   "outputs": [
    {
     "data": {
      "text/plain": [
       "Index(['fixed acidity', 'volatile acidity', 'citric acid', 'residual sugar',\n",
       "       'chlorides', 'free sulfur dioxide', 'total sulfur dioxide', 'density',\n",
       "       'pH', 'sulphates', 'alcohol', 'quality'],\n",
       "      dtype='object')"
      ]
     },
     "execution_count": 47,
     "metadata": {},
     "output_type": "execute_result"
    }
   ],
   "source": [
    "wine_df.columns"
   ]
  },
  {
   "cell_type": "markdown",
   "id": "ff85341f-b39a-4318-9f5f-44ac50ec48b5",
   "metadata": {},
   "source": [
    "მოდელის ექსპორტირება tree_structure.dot ფაილად. \n",
    "შეგვიძლია ჩავსვათ ფაილის კონტენტი webgraphviz.com საიტზე, რათა ვიხილოთ დიაგრამა"
   ]
  },
  {
   "cell_type": "code",
   "execution_count": 48,
   "id": "8f354f26-aaa4-41d5-85eb-81ea61a99c70",
   "metadata": {},
   "outputs": [],
   "source": [
    "from sklearn.tree import export_graphviz  \n",
    "\n",
    "\n",
    "export_graphviz(wine_treeRegressor, out_file ='tree_structure.dot', \n",
    "               feature_names =['fixed acidity', 'volatile acidity', 'citric acid', 'residual sugar',\n",
    "       'chlorides', 'free sulfur dioxide', 'total sulfur dioxide', 'density',\n",
    "       'pH', 'sulphates', 'alcohol'])"
   ]
  },
  {
   "cell_type": "markdown",
   "id": "5bbd5bdb-ebb6-4d63-b50e-6fd808c136e5",
   "metadata": {},
   "source": [
    "# ლოგისტიკური რეგრესიის მოდელი"
   ]
  },
  {
   "cell_type": "markdown",
   "id": "4947f186-01ac-472b-9c53-ad7308b19ed0",
   "metadata": {},
   "source": [
    "მოცემულია დეითასეთი გულის შეტევის შესახებ და ხდება გულის შეტევის პროგნოზირება. მოცემული დეითასეტი შეგიძლიათ იხილოთ ბმულზე https://www.kaggle.com/datasets/andrewmvd/heart-failure-clinical-data"
   ]
  },
  {
   "cell_type": "code",
   "execution_count": 70,
   "id": "0895b84a-8e50-404a-a90f-dae6038b880f",
   "metadata": {},
   "outputs": [],
   "source": [
    "import pandas as pd\n",
    "from matplotlib import pyplot as plt\n",
    "%matplotlib inline"
   ]
  },
  {
   "cell_type": "code",
   "execution_count": 71,
   "id": "30e645ee-1c8f-410b-a41b-42a88b3cfb3c",
   "metadata": {},
   "outputs": [
    {
     "data": {
      "text/html": [
       "<div>\n",
       "<style scoped>\n",
       "    .dataframe tbody tr th:only-of-type {\n",
       "        vertical-align: middle;\n",
       "    }\n",
       "\n",
       "    .dataframe tbody tr th {\n",
       "        vertical-align: top;\n",
       "    }\n",
       "\n",
       "    .dataframe thead th {\n",
       "        text-align: right;\n",
       "    }\n",
       "</style>\n",
       "<table border=\"1\" class=\"dataframe\">\n",
       "  <thead>\n",
       "    <tr style=\"text-align: right;\">\n",
       "      <th></th>\n",
       "      <th>age</th>\n",
       "      <th>anaemia</th>\n",
       "      <th>creatinine_phosphokinase</th>\n",
       "      <th>diabetes</th>\n",
       "      <th>ejection_fraction</th>\n",
       "      <th>high_blood_pressure</th>\n",
       "      <th>platelets</th>\n",
       "      <th>serum_creatinine</th>\n",
       "      <th>serum_sodium</th>\n",
       "      <th>sex</th>\n",
       "      <th>smoking</th>\n",
       "      <th>time</th>\n",
       "      <th>DEATH_EVENT</th>\n",
       "    </tr>\n",
       "  </thead>\n",
       "  <tbody>\n",
       "    <tr>\n",
       "      <th>0</th>\n",
       "      <td>75.0</td>\n",
       "      <td>0</td>\n",
       "      <td>582</td>\n",
       "      <td>0</td>\n",
       "      <td>20</td>\n",
       "      <td>1</td>\n",
       "      <td>265000.00</td>\n",
       "      <td>1.9</td>\n",
       "      <td>130</td>\n",
       "      <td>1</td>\n",
       "      <td>0</td>\n",
       "      <td>4</td>\n",
       "      <td>1</td>\n",
       "    </tr>\n",
       "    <tr>\n",
       "      <th>1</th>\n",
       "      <td>55.0</td>\n",
       "      <td>0</td>\n",
       "      <td>7861</td>\n",
       "      <td>0</td>\n",
       "      <td>38</td>\n",
       "      <td>0</td>\n",
       "      <td>263358.03</td>\n",
       "      <td>1.1</td>\n",
       "      <td>136</td>\n",
       "      <td>1</td>\n",
       "      <td>0</td>\n",
       "      <td>6</td>\n",
       "      <td>1</td>\n",
       "    </tr>\n",
       "    <tr>\n",
       "      <th>2</th>\n",
       "      <td>65.0</td>\n",
       "      <td>0</td>\n",
       "      <td>146</td>\n",
       "      <td>0</td>\n",
       "      <td>20</td>\n",
       "      <td>0</td>\n",
       "      <td>162000.00</td>\n",
       "      <td>1.3</td>\n",
       "      <td>129</td>\n",
       "      <td>1</td>\n",
       "      <td>1</td>\n",
       "      <td>7</td>\n",
       "      <td>1</td>\n",
       "    </tr>\n",
       "    <tr>\n",
       "      <th>3</th>\n",
       "      <td>50.0</td>\n",
       "      <td>1</td>\n",
       "      <td>111</td>\n",
       "      <td>0</td>\n",
       "      <td>20</td>\n",
       "      <td>0</td>\n",
       "      <td>210000.00</td>\n",
       "      <td>1.9</td>\n",
       "      <td>137</td>\n",
       "      <td>1</td>\n",
       "      <td>0</td>\n",
       "      <td>7</td>\n",
       "      <td>1</td>\n",
       "    </tr>\n",
       "    <tr>\n",
       "      <th>4</th>\n",
       "      <td>65.0</td>\n",
       "      <td>1</td>\n",
       "      <td>160</td>\n",
       "      <td>1</td>\n",
       "      <td>20</td>\n",
       "      <td>0</td>\n",
       "      <td>327000.00</td>\n",
       "      <td>2.7</td>\n",
       "      <td>116</td>\n",
       "      <td>0</td>\n",
       "      <td>0</td>\n",
       "      <td>8</td>\n",
       "      <td>1</td>\n",
       "    </tr>\n",
       "  </tbody>\n",
       "</table>\n",
       "</div>"
      ],
      "text/plain": [
       "    age  anaemia  creatinine_phosphokinase  diabetes  ejection_fraction  \\\n",
       "0  75.0        0                       582         0                 20   \n",
       "1  55.0        0                      7861         0                 38   \n",
       "2  65.0        0                       146         0                 20   \n",
       "3  50.0        1                       111         0                 20   \n",
       "4  65.0        1                       160         1                 20   \n",
       "\n",
       "   high_blood_pressure  platelets  serum_creatinine  serum_sodium  sex  \\\n",
       "0                    1  265000.00               1.9           130    1   \n",
       "1                    0  263358.03               1.1           136    1   \n",
       "2                    0  162000.00               1.3           129    1   \n",
       "3                    0  210000.00               1.9           137    1   \n",
       "4                    0  327000.00               2.7           116    0   \n",
       "\n",
       "   smoking  time  DEATH_EVENT  \n",
       "0        0     4            1  \n",
       "1        0     6            1  \n",
       "2        1     7            1  \n",
       "3        0     7            1  \n",
       "4        0     8            1  "
      ]
     },
     "execution_count": 71,
     "metadata": {},
     "output_type": "execute_result"
    }
   ],
   "source": [
    "heart_df = pd.read_csv(\"heart_failure_clinical_records_dataset.csv\")\n",
    "heart_df.head()"
   ]
  },
  {
   "cell_type": "code",
   "execution_count": 72,
   "id": "28fbdd6a-b26e-4e4c-9f52-bd0b936544f7",
   "metadata": {},
   "outputs": [
    {
     "data": {
      "text/plain": [
       "Index(['age', 'anaemia', 'creatinine_phosphokinase', 'diabetes',\n",
       "       'ejection_fraction', 'high_blood_pressure', 'platelets',\n",
       "       'serum_creatinine', 'serum_sodium', 'sex', 'smoking', 'time',\n",
       "       'DEATH_EVENT'],\n",
       "      dtype='object')"
      ]
     },
     "execution_count": 72,
     "metadata": {},
     "output_type": "execute_result"
    }
   ],
   "source": [
    "heart_df.columns"
   ]
  },
  {
   "cell_type": "markdown",
   "id": "ba6faaa2-e316-4c36-a286-1256a68a7bcf",
   "metadata": {},
   "source": [
    "დამოკიდებული და დამოუკიდბელი სვეტების განცალკევება"
   ]
  },
  {
   "cell_type": "code",
   "execution_count": 73,
   "id": "604c42ad-d985-4e14-a7fc-d9074175a615",
   "metadata": {},
   "outputs": [],
   "source": [
    "heart_X = heart_df.drop('DEATH_EVENT', axis=1).values\n",
    "heart_y = heart_df['DEATH_EVENT'].values"
   ]
  },
  {
   "cell_type": "markdown",
   "id": "03c8ff08-f020-4dc3-ab1a-928b30a64e07",
   "metadata": {},
   "source": [
    "სატრენინგოდ და სატესტოდა დაყოფა. სატესტოს ზომად აღებულია 30%"
   ]
  },
  {
   "cell_type": "code",
   "execution_count": 74,
   "id": "a966370f-da69-45dd-adc1-a17628ebf1ef",
   "metadata": {},
   "outputs": [],
   "source": [
    "from sklearn.model_selection import train_test_split\n",
    "X_train, X_test, y_train, y_test = train_test_split(heart_X, heart_y, test_size=0.3, random_state=7)"
   ]
  },
  {
   "cell_type": "markdown",
   "id": "bf6e36ae-c91d-4fb9-bccb-4b584a81d4ff",
   "metadata": {},
   "source": [
    "მოვახდინეთ მონაცემთა სკალირება"
   ]
  },
  {
   "cell_type": "code",
   "execution_count": 75,
   "id": "899917d9-3196-4b9f-8e40-5ed435068f64",
   "metadata": {},
   "outputs": [],
   "source": [
    "from sklearn.preprocessing import LabelEncoder, StandardScaler\n",
    "my_scaler = StandardScaler()\n",
    "X_train = my_scaler.fit_transform(X_train)\n",
    "X_test = my_scaler.transform(X_test)"
   ]
  },
  {
   "cell_type": "markdown",
   "id": "70e162d3-3c3a-4de1-94b3-031151192298",
   "metadata": {},
   "source": [
    "LogisticRegression მოდელის შემნა და სატრენინგო მონაცემებით დატრენინგება"
   ]
  },
  {
   "cell_type": "code",
   "execution_count": 76,
   "id": "043d699f-8c76-4faf-a599-a8c50381ed24",
   "metadata": {},
   "outputs": [
    {
     "data": {
      "text/html": [
       "<style>#sk-container-id-6 {color: black;}#sk-container-id-6 pre{padding: 0;}#sk-container-id-6 div.sk-toggleable {background-color: white;}#sk-container-id-6 label.sk-toggleable__label {cursor: pointer;display: block;width: 100%;margin-bottom: 0;padding: 0.3em;box-sizing: border-box;text-align: center;}#sk-container-id-6 label.sk-toggleable__label-arrow:before {content: \"▸\";float: left;margin-right: 0.25em;color: #696969;}#sk-container-id-6 label.sk-toggleable__label-arrow:hover:before {color: black;}#sk-container-id-6 div.sk-estimator:hover label.sk-toggleable__label-arrow:before {color: black;}#sk-container-id-6 div.sk-toggleable__content {max-height: 0;max-width: 0;overflow: hidden;text-align: left;background-color: #f0f8ff;}#sk-container-id-6 div.sk-toggleable__content pre {margin: 0.2em;color: black;border-radius: 0.25em;background-color: #f0f8ff;}#sk-container-id-6 input.sk-toggleable__control:checked~div.sk-toggleable__content {max-height: 200px;max-width: 100%;overflow: auto;}#sk-container-id-6 input.sk-toggleable__control:checked~label.sk-toggleable__label-arrow:before {content: \"▾\";}#sk-container-id-6 div.sk-estimator input.sk-toggleable__control:checked~label.sk-toggleable__label {background-color: #d4ebff;}#sk-container-id-6 div.sk-label input.sk-toggleable__control:checked~label.sk-toggleable__label {background-color: #d4ebff;}#sk-container-id-6 input.sk-hidden--visually {border: 0;clip: rect(1px 1px 1px 1px);clip: rect(1px, 1px, 1px, 1px);height: 1px;margin: -1px;overflow: hidden;padding: 0;position: absolute;width: 1px;}#sk-container-id-6 div.sk-estimator {font-family: monospace;background-color: #f0f8ff;border: 1px dotted black;border-radius: 0.25em;box-sizing: border-box;margin-bottom: 0.5em;}#sk-container-id-6 div.sk-estimator:hover {background-color: #d4ebff;}#sk-container-id-6 div.sk-parallel-item::after {content: \"\";width: 100%;border-bottom: 1px solid gray;flex-grow: 1;}#sk-container-id-6 div.sk-label:hover label.sk-toggleable__label {background-color: #d4ebff;}#sk-container-id-6 div.sk-serial::before {content: \"\";position: absolute;border-left: 1px solid gray;box-sizing: border-box;top: 0;bottom: 0;left: 50%;z-index: 0;}#sk-container-id-6 div.sk-serial {display: flex;flex-direction: column;align-items: center;background-color: white;padding-right: 0.2em;padding-left: 0.2em;position: relative;}#sk-container-id-6 div.sk-item {position: relative;z-index: 1;}#sk-container-id-6 div.sk-parallel {display: flex;align-items: stretch;justify-content: center;background-color: white;position: relative;}#sk-container-id-6 div.sk-item::before, #sk-container-id-6 div.sk-parallel-item::before {content: \"\";position: absolute;border-left: 1px solid gray;box-sizing: border-box;top: 0;bottom: 0;left: 50%;z-index: -1;}#sk-container-id-6 div.sk-parallel-item {display: flex;flex-direction: column;z-index: 1;position: relative;background-color: white;}#sk-container-id-6 div.sk-parallel-item:first-child::after {align-self: flex-end;width: 50%;}#sk-container-id-6 div.sk-parallel-item:last-child::after {align-self: flex-start;width: 50%;}#sk-container-id-6 div.sk-parallel-item:only-child::after {width: 0;}#sk-container-id-6 div.sk-dashed-wrapped {border: 1px dashed gray;margin: 0 0.4em 0.5em 0.4em;box-sizing: border-box;padding-bottom: 0.4em;background-color: white;}#sk-container-id-6 div.sk-label label {font-family: monospace;font-weight: bold;display: inline-block;line-height: 1.2em;}#sk-container-id-6 div.sk-label-container {text-align: center;}#sk-container-id-6 div.sk-container {/* jupyter's `normalize.less` sets `[hidden] { display: none; }` but bootstrap.min.css set `[hidden] { display: none !important; }` so we also need the `!important` here to be able to override the default hidden behavior on the sphinx rendered scikit-learn.org. See: https://github.com/scikit-learn/scikit-learn/issues/21755 */display: inline-block !important;position: relative;}#sk-container-id-6 div.sk-text-repr-fallback {display: none;}</style><div id=\"sk-container-id-6\" class=\"sk-top-container\"><div class=\"sk-text-repr-fallback\"><pre>LogisticRegression(max_iter=50000)</pre><b>In a Jupyter environment, please rerun this cell to show the HTML representation or trust the notebook. <br />On GitHub, the HTML representation is unable to render, please try loading this page with nbviewer.org.</b></div><div class=\"sk-container\" hidden><div class=\"sk-item\"><div class=\"sk-estimator sk-toggleable\"><input class=\"sk-toggleable__control sk-hidden--visually\" id=\"sk-estimator-id-6\" type=\"checkbox\" checked><label for=\"sk-estimator-id-6\" class=\"sk-toggleable__label sk-toggleable__label-arrow\">LogisticRegression</label><div class=\"sk-toggleable__content\"><pre>LogisticRegression(max_iter=50000)</pre></div></div></div></div></div>"
      ],
      "text/plain": [
       "LogisticRegression(max_iter=50000)"
      ]
     },
     "execution_count": 76,
     "metadata": {},
     "output_type": "execute_result"
    }
   ],
   "source": [
    "from sklearn.linear_model import LogisticRegression\n",
    "heart_model = LogisticRegression(max_iter=50000)\n",
    "heart_model.fit(X_train, y_train)"
   ]
  },
  {
   "cell_type": "code",
   "execution_count": 77,
   "id": "9f77fce4-55a4-41f0-916e-a17bbb9cac1c",
   "metadata": {},
   "outputs": [
    {
     "data": {
      "text/plain": [
       "array([1, 0], dtype=int64)"
      ]
     },
     "execution_count": 77,
     "metadata": {},
     "output_type": "execute_result"
    }
   ],
   "source": [
    "heart_df['DEATH_EVENT'].unique()"
   ]
  },
  {
   "cell_type": "markdown",
   "id": "63311dde-7353-4896-95f6-a8d2b33a47a7",
   "metadata": {},
   "source": [
    "მოდელის მიერ დაფიქსირებული ეფექტურობაა 0.8555555555555555"
   ]
  },
  {
   "cell_type": "code",
   "execution_count": 78,
   "id": "0aadd691-5840-47e5-a2f1-e3c704dd1707",
   "metadata": {},
   "outputs": [
    {
     "data": {
      "text/plain": [
       "0.8555555555555555"
      ]
     },
     "execution_count": 78,
     "metadata": {},
     "output_type": "execute_result"
    }
   ],
   "source": [
    "heart_model.score(X_test, y_test)"
   ]
  },
  {
   "cell_type": "code",
   "execution_count": 79,
   "id": "e71ffb98-9f19-46f7-a209-948337f3249b",
   "metadata": {},
   "outputs": [
    {
     "data": {
      "text/plain": [
       "DEATH_EVENT\n",
       "0    0.67893\n",
       "1    0.32107\n",
       "Name: proportion, dtype: float64"
      ]
     },
     "execution_count": 79,
     "metadata": {},
     "output_type": "execute_result"
    }
   ],
   "source": [
    "heart_df['DEATH_EVENT'].value_counts(normalize=True) # 1 - გარდაიცვალა; 0 - გადარჩა"
   ]
  },
  {
   "cell_type": "markdown",
   "id": "e686c176-071c-404f-a1a7-257e463a885c",
   "metadata": {},
   "source": [
    "სატესტო მონაცემებზე შედეგის პროგნოზირება"
   ]
  },
  {
   "cell_type": "code",
   "execution_count": 81,
   "id": "95ef1c29-937a-4f3b-adb9-5adbbab686db",
   "metadata": {},
   "outputs": [
    {
     "data": {
      "text/plain": [
       "array([0, 0, 0, 0, 0, 1, 0, 0, 1, 0, 0, 0, 0, 0, 1, 0, 0, 0, 0, 0, 0, 1,\n",
       "       0, 0, 1, 0, 0, 1, 0, 0, 0, 0, 0, 0, 0, 0, 1, 0, 0, 1, 0, 0, 1, 0,\n",
       "       0, 0, 0, 0, 1, 0, 0, 0, 0, 1, 0, 1, 0, 0, 0, 0, 0, 0, 1, 0, 1, 0,\n",
       "       0, 0, 0, 0, 1, 1, 0, 0, 1, 0, 0, 0, 1, 0, 0, 1, 1, 1, 0, 1, 0, 0,\n",
       "       0, 0], dtype=int64)"
      ]
     },
     "execution_count": 81,
     "metadata": {},
     "output_type": "execute_result"
    }
   ],
   "source": [
    "heart_model.predict(X_test)"
   ]
  },
  {
   "cell_type": "markdown",
   "id": "d728ea6f-640a-4b29-9441-2314b9879ddb",
   "metadata": {},
   "source": [
    "მოდელის მეშვეობით დგინდება, რომ 67.0,\t0, 144, 0, 23, 0, 65000.0, 1.4, 139, 1, 0, 7 მახასიათებლების მქონდე პირი გადარჩება"
   ]
  },
  {
   "cell_type": "code",
   "execution_count": 82,
   "id": "3eccc5d5-4da3-4b9f-9170-e4df3594724f",
   "metadata": {},
   "outputs": [
    {
     "data": {
      "text/plain": [
       "0"
      ]
     },
     "execution_count": 82,
     "metadata": {},
     "output_type": "execute_result"
    }
   ],
   "source": [
    "heart_model.predict([[67.0,\t0, 144, 0, 23, 0, 65000.0, 1.4, 139, 1, 0, 7]])[0]"
   ]
  },
  {
   "cell_type": "markdown",
   "id": "491610e2-b5a3-4804-be2f-a26d212a318d",
   "metadata": {},
   "source": [
    "# გადაწყვეტილების ხის კლასიფიკაციის მოდელი"
   ]
  },
  {
   "cell_type": "markdown",
   "id": "43f20653-7870-43c7-8d5e-4e249a8db0cb",
   "metadata": {},
   "source": [
    "მოცემულია მანქანების შესახებ დათასეტი და ხდება მანქანის მიერ მოხმარებული საწვავის პროგნოზირება. დათასეტი შეგიძლიათ იხილოთ ბმულზე\n",
    "https://www.kaggle.com/datasets/fernandin83/carfueltype"
   ]
  },
  {
   "cell_type": "code",
   "execution_count": 108,
   "id": "41320132-9224-4127-9e0a-4393e219c599",
   "metadata": {},
   "outputs": [],
   "source": [
    "import pandas as pd\n",
    "from sklearn.preprocessing import LabelEncoder, StandardScaler\n",
    "from sklearn.tree import DecisionTreeClassifier"
   ]
  },
  {
   "cell_type": "code",
   "execution_count": 109,
   "id": "d28ee154-18f6-4378-b591-328cc5ad7b5e",
   "metadata": {},
   "outputs": [
    {
     "data": {
      "text/html": [
       "<div>\n",
       "<style scoped>\n",
       "    .dataframe tbody tr th:only-of-type {\n",
       "        vertical-align: middle;\n",
       "    }\n",
       "\n",
       "    .dataframe tbody tr th {\n",
       "        vertical-align: top;\n",
       "    }\n",
       "\n",
       "    .dataframe thead th {\n",
       "        text-align: right;\n",
       "    }\n",
       "</style>\n",
       "<table border=\"1\" class=\"dataframe\">\n",
       "  <thead>\n",
       "    <tr style=\"text-align: right;\">\n",
       "      <th></th>\n",
       "      <th>Unnamed: 0</th>\n",
       "      <th>brand</th>\n",
       "      <th>name</th>\n",
       "      <th>bodyType</th>\n",
       "      <th>year</th>\n",
       "      <th>transmission</th>\n",
       "      <th>power</th>\n",
       "      <th>fuelType</th>\n",
       "    </tr>\n",
       "  </thead>\n",
       "  <tbody>\n",
       "    <tr>\n",
       "      <th>0</th>\n",
       "      <td>0</td>\n",
       "      <td>Toyota</td>\n",
       "      <td>Land Cruiser Prado</td>\n",
       "      <td>jeep 5 doors</td>\n",
       "      <td>1995.0</td>\n",
       "      <td>AT</td>\n",
       "      <td>130.0</td>\n",
       "      <td>Diesel</td>\n",
       "    </tr>\n",
       "    <tr>\n",
       "      <th>1</th>\n",
       "      <td>1</td>\n",
       "      <td>Toyota</td>\n",
       "      <td>Land Cruiser</td>\n",
       "      <td>jeep 5 doors</td>\n",
       "      <td>NaN</td>\n",
       "      <td>Automatic</td>\n",
       "      <td>286.0</td>\n",
       "      <td>Diesel</td>\n",
       "    </tr>\n",
       "    <tr>\n",
       "      <th>2</th>\n",
       "      <td>2</td>\n",
       "      <td>Toyota</td>\n",
       "      <td>Vitz</td>\n",
       "      <td>hatchback 5 doors</td>\n",
       "      <td>2019.0</td>\n",
       "      <td>CVT</td>\n",
       "      <td>95.0</td>\n",
       "      <td>Gasoline</td>\n",
       "    </tr>\n",
       "    <tr>\n",
       "      <th>3</th>\n",
       "      <td>3</td>\n",
       "      <td>Toyota</td>\n",
       "      <td>Mark II</td>\n",
       "      <td>sedan</td>\n",
       "      <td>2002.0</td>\n",
       "      <td>AT</td>\n",
       "      <td>160.0</td>\n",
       "      <td>Gasoline</td>\n",
       "    </tr>\n",
       "    <tr>\n",
       "      <th>4</th>\n",
       "      <td>4</td>\n",
       "      <td>Toyota</td>\n",
       "      <td>RAV4</td>\n",
       "      <td>jeep 5 doors</td>\n",
       "      <td>2010.0</td>\n",
       "      <td>AT</td>\n",
       "      <td>170.0</td>\n",
       "      <td>Gasoline</td>\n",
       "    </tr>\n",
       "  </tbody>\n",
       "</table>\n",
       "</div>"
      ],
      "text/plain": [
       "   Unnamed: 0   brand                name           bodyType    year  \\\n",
       "0           0  Toyota  Land Cruiser Prado       jeep 5 doors  1995.0   \n",
       "1           1  Toyota        Land Cruiser       jeep 5 doors     NaN   \n",
       "2           2  Toyota                Vitz  hatchback 5 doors  2019.0   \n",
       "3           3  Toyota             Mark II              sedan  2002.0   \n",
       "4           4  Toyota                RAV4       jeep 5 doors  2010.0   \n",
       "\n",
       "  transmission  power  fuelType  \n",
       "0           AT  130.0    Diesel  \n",
       "1    Automatic  286.0    Diesel  \n",
       "2          CVT   95.0  Gasoline  \n",
       "3           AT  160.0  Gasoline  \n",
       "4           AT  170.0  Gasoline  "
      ]
     },
     "execution_count": 109,
     "metadata": {},
     "output_type": "execute_result"
    }
   ],
   "source": [
    "car_df = pd.read_csv('fueltype.csv')\n",
    "car_df.head()"
   ]
  },
  {
   "cell_type": "code",
   "execution_count": 110,
   "id": "61446ae0-cd9d-4b2b-b1ec-56fd9f2fe1d5",
   "metadata": {},
   "outputs": [
    {
     "data": {
      "text/plain": [
       "(1498740, 8)"
      ]
     },
     "execution_count": 110,
     "metadata": {},
     "output_type": "execute_result"
    }
   ],
   "source": [
    "car_df.shape"
   ]
  },
  {
   "cell_type": "code",
   "execution_count": 111,
   "id": "73ef6dfb-8a44-4f8b-abab-384fd6464931",
   "metadata": {},
   "outputs": [
    {
     "data": {
      "text/plain": [
       "transmission\n",
       "AT           928804\n",
       "CVT          300779\n",
       "Manual       179336\n",
       "Automatic     54372\n",
       "Robot         28048\n",
       "Name: count, dtype: int64"
      ]
     },
     "execution_count": 111,
     "metadata": {},
     "output_type": "execute_result"
    }
   ],
   "source": [
    "car_df[\"transmission\"].value_counts()"
   ]
  },
  {
   "cell_type": "markdown",
   "id": "309ecdb8-0dc6-42dc-8d03-b8181bb58690",
   "metadata": {},
   "source": [
    "განხორხიელდა რიგი ქმდებები null-ების შესავდებად:\n",
    "* power სვეტში null-ების ამავე სვეტის მედიანით შევსება\n",
    "* transmission სვეტში სიცარიელეების შევსება ყველაზე ხშირად გამეორებული მონაცემებით\n",
    "* year სვეტის წაშლა, რაგდან ბევრი მონაცემი აკლია და Unnamed: 0 სვეტის წაშლა, რადგან არაფერში არ არის საჭირო"
   ]
  },
  {
   "cell_type": "code",
   "execution_count": 112,
   "id": "e95e08a6-5714-4224-b845-47b3d8529a09",
   "metadata": {},
   "outputs": [],
   "source": [
    "car_df[\"power\"] = car_df[\"power\"].fillna(car_df[\"power\"].median())\n",
    "car_df[\"transmission\"] = car_df[\"transmission\"].fillna(car_df[\"transmission\"].value_counts().index[0])\n",
    "car_df.drop([\"year\", \"Unnamed: 0\"], axis=1, inplace=True)"
   ]
  },
  {
   "cell_type": "code",
   "execution_count": 113,
   "id": "0c24994a-a0b9-4ef4-a5b9-d19addeb52f6",
   "metadata": {},
   "outputs": [
    {
     "data": {
      "text/plain": [
       "(1498740, 6)"
      ]
     },
     "execution_count": 113,
     "metadata": {},
     "output_type": "execute_result"
    }
   ],
   "source": [
    "car_df.shape"
   ]
  },
  {
   "cell_type": "markdown",
   "id": "85d20489-9bc1-481a-86af-c2fb10caa12c",
   "metadata": {},
   "source": [
    "იმ სტრიქონების წაშლა, რომლებიც null-ებს შეიცავს.\n",
    "რადგან უკვე ერთადერთი null-ის შემცველი სვეტი fuelType-ია, წაიშლება ის სტრიქონები, რომლებსაც დამოკიდებული ცვლადი არ აქვს განსაზღვრული"
   ]
  },
  {
   "cell_type": "code",
   "execution_count": 114,
   "id": "fb42fc77-ed37-4a42-bb48-b0a7f05be619",
   "metadata": {},
   "outputs": [],
   "source": [
    "car_df.dropna(axis=0, inplace=True)"
   ]
  },
  {
   "cell_type": "code",
   "execution_count": 115,
   "id": "f2229fc5-0c18-4348-b638-b6931f29337a",
   "metadata": {},
   "outputs": [
    {
     "data": {
      "text/plain": [
       "(1492145, 6)"
      ]
     },
     "execution_count": 115,
     "metadata": {},
     "output_type": "execute_result"
    }
   ],
   "source": [
    "car_df.shape"
   ]
  },
  {
   "cell_type": "code",
   "execution_count": 116,
   "id": "d62a1f4d-0914-4c4e-ba75-06818837f05f",
   "metadata": {},
   "outputs": [
    {
     "data": {
      "text/plain": [
       "brand           0\n",
       "name            0\n",
       "bodyType        0\n",
       "transmission    0\n",
       "power           0\n",
       "fuelType        0\n",
       "dtype: int64"
      ]
     },
     "execution_count": 116,
     "metadata": {},
     "output_type": "execute_result"
    }
   ],
   "source": [
    "car_df.isnull().sum()"
   ]
  },
  {
   "cell_type": "markdown",
   "id": "7d4c2418-f4c2-4243-9bb7-3378e81086a6",
   "metadata": {},
   "source": [
    "გვაქვს 3 კლასი:\n",
    "* Diesel\n",
    "* Gasoline\n",
    "* Electro"
   ]
  },
  {
   "cell_type": "code",
   "execution_count": 117,
   "id": "d5ad731e-a2c1-4420-9b92-1d95ab2cd380",
   "metadata": {},
   "outputs": [
    {
     "data": {
      "text/plain": [
       "array(['Diesel', 'Gasoline', 'Electro'], dtype=object)"
      ]
     },
     "execution_count": 117,
     "metadata": {},
     "output_type": "execute_result"
    }
   ],
   "source": [
    "car_df[\"fuelType\"].unique()"
   ]
  },
  {
   "cell_type": "markdown",
   "id": "634e0ae6-ba1f-47c3-9a9a-4ec420e98db4",
   "metadata": {},
   "source": [
    "როგორც აღმოჩნდა power-ის გარდა რიცხვითი ტიპის სხვა სვეტი არ გვაქვს"
   ]
  },
  {
   "cell_type": "code",
   "execution_count": 118,
   "id": "602c3c31-ae54-4ca1-9f4e-e14ac396cde4",
   "metadata": {},
   "outputs": [
    {
     "data": {
      "text/plain": [
       "brand            object\n",
       "name             object\n",
       "bodyType         object\n",
       "transmission     object\n",
       "power           float64\n",
       "fuelType         object\n",
       "dtype: object"
      ]
     },
     "execution_count": 118,
     "metadata": {},
     "output_type": "execute_result"
    }
   ],
   "source": [
    "car_df.dtypes"
   ]
  },
  {
   "cell_type": "markdown",
   "id": "ccc05964-c97f-43ba-9157-ec9c3e00f88b",
   "metadata": {},
   "source": [
    "შევქმენით LabelEncoder და შემდგემ ხდება კატეგორიული სვეტების რიცხვითში გადაყვანა"
   ]
  },
  {
   "cell_type": "code",
   "execution_count": 119,
   "id": "4e74920b-fd5d-45b2-8660-af93472a8c6b",
   "metadata": {},
   "outputs": [],
   "source": [
    "myLabel = LabelEncoder()"
   ]
  },
  {
   "cell_type": "code",
   "execution_count": 120,
   "id": "9d5b4124-45df-49fe-862d-9d8ff0bb19d6",
   "metadata": {},
   "outputs": [],
   "source": [
    "car_df[\"brand\"] = myLabel.fit_transform(car_df[\"brand\"])\n",
    "car_df[\"name\"] = myLabel.fit_transform(car_df[\"name\"])\n",
    "car_df[\"bodyType\"] = myLabel.fit_transform(car_df[\"bodyType\"])\n",
    "car_df[\"transmission\"] = myLabel.fit_transform(car_df[\"transmission\"])\n",
    "car_df[\"fuelType\"] = myLabel.fit_transform(car_df[\"fuelType\"])"
   ]
  },
  {
   "cell_type": "code",
   "execution_count": 121,
   "id": "e86c5c98-8df6-4508-9aaa-dc51ddeb22d2",
   "metadata": {},
   "outputs": [
    {
     "data": {
      "text/html": [
       "<div>\n",
       "<style scoped>\n",
       "    .dataframe tbody tr th:only-of-type {\n",
       "        vertical-align: middle;\n",
       "    }\n",
       "\n",
       "    .dataframe tbody tr th {\n",
       "        vertical-align: top;\n",
       "    }\n",
       "\n",
       "    .dataframe thead th {\n",
       "        text-align: right;\n",
       "    }\n",
       "</style>\n",
       "<table border=\"1\" class=\"dataframe\">\n",
       "  <thead>\n",
       "    <tr style=\"text-align: right;\">\n",
       "      <th></th>\n",
       "      <th>brand</th>\n",
       "      <th>name</th>\n",
       "      <th>bodyType</th>\n",
       "      <th>transmission</th>\n",
       "      <th>power</th>\n",
       "      <th>fuelType</th>\n",
       "    </tr>\n",
       "  </thead>\n",
       "  <tbody>\n",
       "    <tr>\n",
       "      <th>0</th>\n",
       "      <td>37</td>\n",
       "      <td>255</td>\n",
       "      <td>4</td>\n",
       "      <td>0</td>\n",
       "      <td>130.0</td>\n",
       "      <td>0</td>\n",
       "    </tr>\n",
       "    <tr>\n",
       "      <th>1</th>\n",
       "      <td>37</td>\n",
       "      <td>253</td>\n",
       "      <td>4</td>\n",
       "      <td>1</td>\n",
       "      <td>286.0</td>\n",
       "      <td>0</td>\n",
       "    </tr>\n",
       "    <tr>\n",
       "      <th>2</th>\n",
       "      <td>37</td>\n",
       "      <td>467</td>\n",
       "      <td>2</td>\n",
       "      <td>2</td>\n",
       "      <td>95.0</td>\n",
       "      <td>2</td>\n",
       "    </tr>\n",
       "    <tr>\n",
       "      <th>3</th>\n",
       "      <td>37</td>\n",
       "      <td>283</td>\n",
       "      <td>9</td>\n",
       "      <td>0</td>\n",
       "      <td>160.0</td>\n",
       "      <td>2</td>\n",
       "    </tr>\n",
       "    <tr>\n",
       "      <th>4</th>\n",
       "      <td>37</td>\n",
       "      <td>370</td>\n",
       "      <td>4</td>\n",
       "      <td>0</td>\n",
       "      <td>170.0</td>\n",
       "      <td>2</td>\n",
       "    </tr>\n",
       "  </tbody>\n",
       "</table>\n",
       "</div>"
      ],
      "text/plain": [
       "   brand  name  bodyType  transmission  power  fuelType\n",
       "0     37   255         4             0  130.0         0\n",
       "1     37   253         4             1  286.0         0\n",
       "2     37   467         2             2   95.0         2\n",
       "3     37   283         9             0  160.0         2\n",
       "4     37   370         4             0  170.0         2"
      ]
     },
     "execution_count": 121,
     "metadata": {},
     "output_type": "execute_result"
    }
   ],
   "source": [
    "car_df.head()"
   ]
  },
  {
   "cell_type": "code",
   "execution_count": 122,
   "id": "1b41e24d-0dde-40c4-b0f0-28dd068c03d5",
   "metadata": {},
   "outputs": [
    {
     "data": {
      "text/plain": [
       "(3,)"
      ]
     },
     "execution_count": 122,
     "metadata": {},
     "output_type": "execute_result"
    }
   ],
   "source": [
    "car_df[\"fuelType\"].unique().shape"
   ]
  },
  {
   "cell_type": "markdown",
   "id": "1a4b9a1a-b8e5-4185-9da0-43778fbc3529",
   "metadata": {},
   "source": [
    "ხორციელდება დამოკიდებული და დამოუკიდებელი ცვლადების გაცალკევება"
   ]
  },
  {
   "cell_type": "code",
   "execution_count": 123,
   "id": "3d49fbf0-2533-4ea4-8604-8bd8cac10b9c",
   "metadata": {},
   "outputs": [],
   "source": [
    "car_X = car_df.drop(\"fuelType\", axis=1).values\n",
    "car_y = car_df[\"fuelType\"].values"
   ]
  },
  {
   "cell_type": "markdown",
   "id": "8f40fc3b-ebdb-439a-88b3-edde74c927c8",
   "metadata": {},
   "source": [
    "ხდება მონაცემების სატრენინგოდ და სატესტოდ დაყოფა. სატესტოს ხომად აღებულია 30%"
   ]
  },
  {
   "cell_type": "code",
   "execution_count": 124,
   "id": "c60d47fc-f672-4cfe-a900-d1bd8051e644",
   "metadata": {},
   "outputs": [],
   "source": [
    "from sklearn.model_selection import train_test_split\n",
    "X_train, X_test, y_train, y_test = train_test_split(car_X, car_y, test_size=0.3, random_state=3)"
   ]
  },
  {
   "cell_type": "markdown",
   "id": "e3b158d2-5fed-49d5-82ea-61d73ae8038e",
   "metadata": {},
   "source": [
    "ხორციელდება მონაცემთა სკალირება StandardScaler-ის გამოყენებით"
   ]
  },
  {
   "cell_type": "code",
   "execution_count": 125,
   "id": "25a42173-2a1a-4861-ae00-003d10184be8",
   "metadata": {},
   "outputs": [],
   "source": [
    "myScal = StandardScaler()\n",
    "X_train = myScal.fit_transform(X_train)\n",
    "X_test = myScal.transform(X_test)"
   ]
  },
  {
   "cell_type": "markdown",
   "id": "758e0690-a11a-4692-b7fe-3eff352573ac",
   "metadata": {},
   "source": [
    "ხდება DecisionTreeClassifier მოდელის შექმნა და დატრენინგება"
   ]
  },
  {
   "cell_type": "code",
   "execution_count": 126,
   "id": "7e5acfec-8695-44cf-930e-6de6c6ea857c",
   "metadata": {},
   "outputs": [
    {
     "data": {
      "text/html": [
       "<style>#sk-container-id-8 {color: black;}#sk-container-id-8 pre{padding: 0;}#sk-container-id-8 div.sk-toggleable {background-color: white;}#sk-container-id-8 label.sk-toggleable__label {cursor: pointer;display: block;width: 100%;margin-bottom: 0;padding: 0.3em;box-sizing: border-box;text-align: center;}#sk-container-id-8 label.sk-toggleable__label-arrow:before {content: \"▸\";float: left;margin-right: 0.25em;color: #696969;}#sk-container-id-8 label.sk-toggleable__label-arrow:hover:before {color: black;}#sk-container-id-8 div.sk-estimator:hover label.sk-toggleable__label-arrow:before {color: black;}#sk-container-id-8 div.sk-toggleable__content {max-height: 0;max-width: 0;overflow: hidden;text-align: left;background-color: #f0f8ff;}#sk-container-id-8 div.sk-toggleable__content pre {margin: 0.2em;color: black;border-radius: 0.25em;background-color: #f0f8ff;}#sk-container-id-8 input.sk-toggleable__control:checked~div.sk-toggleable__content {max-height: 200px;max-width: 100%;overflow: auto;}#sk-container-id-8 input.sk-toggleable__control:checked~label.sk-toggleable__label-arrow:before {content: \"▾\";}#sk-container-id-8 div.sk-estimator input.sk-toggleable__control:checked~label.sk-toggleable__label {background-color: #d4ebff;}#sk-container-id-8 div.sk-label input.sk-toggleable__control:checked~label.sk-toggleable__label {background-color: #d4ebff;}#sk-container-id-8 input.sk-hidden--visually {border: 0;clip: rect(1px 1px 1px 1px);clip: rect(1px, 1px, 1px, 1px);height: 1px;margin: -1px;overflow: hidden;padding: 0;position: absolute;width: 1px;}#sk-container-id-8 div.sk-estimator {font-family: monospace;background-color: #f0f8ff;border: 1px dotted black;border-radius: 0.25em;box-sizing: border-box;margin-bottom: 0.5em;}#sk-container-id-8 div.sk-estimator:hover {background-color: #d4ebff;}#sk-container-id-8 div.sk-parallel-item::after {content: \"\";width: 100%;border-bottom: 1px solid gray;flex-grow: 1;}#sk-container-id-8 div.sk-label:hover label.sk-toggleable__label {background-color: #d4ebff;}#sk-container-id-8 div.sk-serial::before {content: \"\";position: absolute;border-left: 1px solid gray;box-sizing: border-box;top: 0;bottom: 0;left: 50%;z-index: 0;}#sk-container-id-8 div.sk-serial {display: flex;flex-direction: column;align-items: center;background-color: white;padding-right: 0.2em;padding-left: 0.2em;position: relative;}#sk-container-id-8 div.sk-item {position: relative;z-index: 1;}#sk-container-id-8 div.sk-parallel {display: flex;align-items: stretch;justify-content: center;background-color: white;position: relative;}#sk-container-id-8 div.sk-item::before, #sk-container-id-8 div.sk-parallel-item::before {content: \"\";position: absolute;border-left: 1px solid gray;box-sizing: border-box;top: 0;bottom: 0;left: 50%;z-index: -1;}#sk-container-id-8 div.sk-parallel-item {display: flex;flex-direction: column;z-index: 1;position: relative;background-color: white;}#sk-container-id-8 div.sk-parallel-item:first-child::after {align-self: flex-end;width: 50%;}#sk-container-id-8 div.sk-parallel-item:last-child::after {align-self: flex-start;width: 50%;}#sk-container-id-8 div.sk-parallel-item:only-child::after {width: 0;}#sk-container-id-8 div.sk-dashed-wrapped {border: 1px dashed gray;margin: 0 0.4em 0.5em 0.4em;box-sizing: border-box;padding-bottom: 0.4em;background-color: white;}#sk-container-id-8 div.sk-label label {font-family: monospace;font-weight: bold;display: inline-block;line-height: 1.2em;}#sk-container-id-8 div.sk-label-container {text-align: center;}#sk-container-id-8 div.sk-container {/* jupyter's `normalize.less` sets `[hidden] { display: none; }` but bootstrap.min.css set `[hidden] { display: none !important; }` so we also need the `!important` here to be able to override the default hidden behavior on the sphinx rendered scikit-learn.org. See: https://github.com/scikit-learn/scikit-learn/issues/21755 */display: inline-block !important;position: relative;}#sk-container-id-8 div.sk-text-repr-fallback {display: none;}</style><div id=\"sk-container-id-8\" class=\"sk-top-container\"><div class=\"sk-text-repr-fallback\"><pre>DecisionTreeClassifier()</pre><b>In a Jupyter environment, please rerun this cell to show the HTML representation or trust the notebook. <br />On GitHub, the HTML representation is unable to render, please try loading this page with nbviewer.org.</b></div><div class=\"sk-container\" hidden><div class=\"sk-item\"><div class=\"sk-estimator sk-toggleable\"><input class=\"sk-toggleable__control sk-hidden--visually\" id=\"sk-estimator-id-8\" type=\"checkbox\" checked><label for=\"sk-estimator-id-8\" class=\"sk-toggleable__label sk-toggleable__label-arrow\">DecisionTreeClassifier</label><div class=\"sk-toggleable__content\"><pre>DecisionTreeClassifier()</pre></div></div></div></div></div>"
      ],
      "text/plain": [
       "DecisionTreeClassifier()"
      ]
     },
     "execution_count": 126,
     "metadata": {},
     "output_type": "execute_result"
    }
   ],
   "source": [
    "car_model = DecisionTreeClassifier()\n",
    "car_model.fit(X_train, y_train)"
   ]
  },
  {
   "cell_type": "markdown",
   "id": "bb045432-3f4c-4a78-8d37-976b7a253ab6",
   "metadata": {},
   "source": [
    "მოდელბა სატესტო მნაცემებზე აჩვენა ძალიან მაღალი ეფექტურობა 0.9913659068366827"
   ]
  },
  {
   "cell_type": "code",
   "execution_count": 127,
   "id": "bb0692b0-12fd-4f71-9d45-cb93f6bb74c9",
   "metadata": {},
   "outputs": [
    {
     "data": {
      "text/plain": [
       "0.9913659068366827"
      ]
     },
     "execution_count": 127,
     "metadata": {},
     "output_type": "execute_result"
    }
   ],
   "source": [
    "car_model.score(X_test, y_test)"
   ]
  },
  {
   "cell_type": "code",
   "execution_count": 128,
   "id": "6c663ddc-60a3-453f-97a6-f5e46023ba14",
   "metadata": {},
   "outputs": [
    {
     "data": {
      "text/plain": [
       "array([0, 2, 1])"
      ]
     },
     "execution_count": 128,
     "metadata": {},
     "output_type": "execute_result"
    }
   ],
   "source": [
    "car_df[\"fuelType\"].unique()"
   ]
  },
  {
   "cell_type": "code",
   "execution_count": 129,
   "id": "d3223535-06ea-4a0e-9c2a-3f3cc6e1adb7",
   "metadata": {},
   "outputs": [
    {
     "data": {
      "text/plain": [
       "array([2])"
      ]
     },
     "execution_count": 129,
     "metadata": {},
     "output_type": "execute_result"
    }
   ],
   "source": [
    "car_model.predict([[ 23., 121.,   7.,   2., 145.]])"
   ]
  },
  {
   "cell_type": "markdown",
   "id": "eef2af08-6db6-4c92-982a-d5335e98670d",
   "metadata": {},
   "source": [
    "აღმოჩნდა რომ ამ მონაცემების მაქანა იყენებს Gasoline-ს"
   ]
  },
  {
   "cell_type": "code",
   "execution_count": 130,
   "id": "f2c2357e-63a8-462c-b12b-8b5479a9ce13",
   "metadata": {},
   "outputs": [
    {
     "data": {
      "text/html": [
       "<div>\n",
       "<style scoped>\n",
       "    .dataframe tbody tr th:only-of-type {\n",
       "        vertical-align: middle;\n",
       "    }\n",
       "\n",
       "    .dataframe tbody tr th {\n",
       "        vertical-align: top;\n",
       "    }\n",
       "\n",
       "    .dataframe thead th {\n",
       "        text-align: right;\n",
       "    }\n",
       "</style>\n",
       "<table border=\"1\" class=\"dataframe\">\n",
       "  <thead>\n",
       "    <tr style=\"text-align: right;\">\n",
       "      <th></th>\n",
       "      <th>brand</th>\n",
       "      <th>name</th>\n",
       "      <th>bodyType</th>\n",
       "      <th>transmission</th>\n",
       "      <th>power</th>\n",
       "      <th>fuelType</th>\n",
       "    </tr>\n",
       "  </thead>\n",
       "  <tbody>\n",
       "    <tr>\n",
       "      <th>0</th>\n",
       "      <td>37</td>\n",
       "      <td>255</td>\n",
       "      <td>4</td>\n",
       "      <td>0</td>\n",
       "      <td>130.0</td>\n",
       "      <td>0</td>\n",
       "    </tr>\n",
       "    <tr>\n",
       "      <th>1</th>\n",
       "      <td>37</td>\n",
       "      <td>253</td>\n",
       "      <td>4</td>\n",
       "      <td>1</td>\n",
       "      <td>286.0</td>\n",
       "      <td>0</td>\n",
       "    </tr>\n",
       "    <tr>\n",
       "      <th>2</th>\n",
       "      <td>37</td>\n",
       "      <td>467</td>\n",
       "      <td>2</td>\n",
       "      <td>2</td>\n",
       "      <td>95.0</td>\n",
       "      <td>2</td>\n",
       "    </tr>\n",
       "    <tr>\n",
       "      <th>3</th>\n",
       "      <td>37</td>\n",
       "      <td>283</td>\n",
       "      <td>9</td>\n",
       "      <td>0</td>\n",
       "      <td>160.0</td>\n",
       "      <td>2</td>\n",
       "    </tr>\n",
       "    <tr>\n",
       "      <th>4</th>\n",
       "      <td>37</td>\n",
       "      <td>370</td>\n",
       "      <td>4</td>\n",
       "      <td>0</td>\n",
       "      <td>170.0</td>\n",
       "      <td>2</td>\n",
       "    </tr>\n",
       "    <tr>\n",
       "      <th>5</th>\n",
       "      <td>37</td>\n",
       "      <td>114</td>\n",
       "      <td>9</td>\n",
       "      <td>0</td>\n",
       "      <td>180.0</td>\n",
       "      <td>2</td>\n",
       "    </tr>\n",
       "    <tr>\n",
       "      <th>6</th>\n",
       "      <td>37</td>\n",
       "      <td>149</td>\n",
       "      <td>6</td>\n",
       "      <td>0</td>\n",
       "      <td>100.0</td>\n",
       "      <td>0</td>\n",
       "    </tr>\n",
       "    <tr>\n",
       "      <th>7</th>\n",
       "      <td>37</td>\n",
       "      <td>100</td>\n",
       "      <td>9</td>\n",
       "      <td>2</td>\n",
       "      <td>105.0</td>\n",
       "      <td>2</td>\n",
       "    </tr>\n",
       "    <tr>\n",
       "      <th>8</th>\n",
       "      <td>13</td>\n",
       "      <td>203</td>\n",
       "      <td>4</td>\n",
       "      <td>0</td>\n",
       "      <td>315.0</td>\n",
       "      <td>2</td>\n",
       "    </tr>\n",
       "    <tr>\n",
       "      <th>9</th>\n",
       "      <td>26</td>\n",
       "      <td>324</td>\n",
       "      <td>4</td>\n",
       "      <td>2</td>\n",
       "      <td>170.0</td>\n",
       "      <td>2</td>\n",
       "    </tr>\n",
       "  </tbody>\n",
       "</table>\n",
       "</div>"
      ],
      "text/plain": [
       "   brand  name  bodyType  transmission  power  fuelType\n",
       "0     37   255         4             0  130.0         0\n",
       "1     37   253         4             1  286.0         0\n",
       "2     37   467         2             2   95.0         2\n",
       "3     37   283         9             0  160.0         2\n",
       "4     37   370         4             0  170.0         2\n",
       "5     37   114         9             0  180.0         2\n",
       "6     37   149         6             0  100.0         0\n",
       "7     37   100         9             2  105.0         2\n",
       "8     13   203         4             0  315.0         2\n",
       "9     26   324         4             2  170.0         2"
      ]
     },
     "execution_count": 130,
     "metadata": {},
     "output_type": "execute_result"
    }
   ],
   "source": [
    "car_df.head(10)"
   ]
  },
  {
   "cell_type": "code",
   "execution_count": null,
   "id": "f4396956-1533-4bcc-965f-374f7500278b",
   "metadata": {},
   "outputs": [],
   "source": []
  }
 ],
 "metadata": {
  "kernelspec": {
   "display_name": "Python 3 (ipykernel)",
   "language": "python",
   "name": "python3"
  },
  "language_info": {
   "codemirror_mode": {
    "name": "ipython",
    "version": 3
   },
   "file_extension": ".py",
   "mimetype": "text/x-python",
   "name": "python",
   "nbconvert_exporter": "python",
   "pygments_lexer": "ipython3",
   "version": "3.11.5"
  }
 },
 "nbformat": 4,
 "nbformat_minor": 5
}
